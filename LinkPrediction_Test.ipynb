{
  "nbformat": 4,
  "nbformat_minor": 0,
  "metadata": {
    "colab": {
      "name": "LinkPrediction_Test.ipynb",
      "provenance": [],
      "collapsed_sections": []
    },
    "kernelspec": {
      "name": "python3",
      "display_name": "Python 3"
    },
    "language_info": {
      "name": "python"
    }
  },
  "cells": [
    {
      "cell_type": "code",
      "source": [
        "from google.colab import drive\n",
        "drive.mount('/content/drive')"
      ],
      "metadata": {
        "colab": {
          "base_uri": "https://localhost:8080/"
        },
        "id": "c0G5iAT2klMU",
        "outputId": "56b64e15-06bd-41ba-fb21-b1cbe6dab446"
      },
      "execution_count": null,
      "outputs": [
        {
          "output_type": "stream",
          "name": "stdout",
          "text": [
            "Drive already mounted at /content/drive; to attempt to forcibly remount, call drive.mount(\"/content/drive\", force_remount=True).\n"
          ]
        }
      ]
    },
    {
      "cell_type": "code",
      "source": [
        "%cd '/content/drive/MyDrive/COSC4235_Research_Thesis/SocialNetworkAnalysis/Implementation'"
      ],
      "metadata": {
        "colab": {
          "base_uri": "https://localhost:8080/"
        },
        "id": "Q7q6AfSllEfk",
        "outputId": "55262df2-ee7a-41e1-903f-47b0a38b1ca9"
      },
      "execution_count": null,
      "outputs": [
        {
          "output_type": "stream",
          "name": "stdout",
          "text": [
            "/content/drive/MyDrive/COSC4235_Research_Thesis/SocialNetworkAnalysis/Implementation\n"
          ]
        }
      ]
    },
    {
      "cell_type": "code",
      "source": [
        "#import required modules\n",
        "import unittest\n",
        "import linkpredictionnetworkxv2\n"
      ],
      "metadata": {
        "id": "-Q3AvesqkxDJ"
      },
      "execution_count": null,
      "outputs": []
    },
    {
      "cell_type": "code",
      "source": [
        "class TestLinkPredictions(unittest.TestCase):\n",
        "  #name has to follow the convection test_function name\n",
        "\n",
        "  edges = [(1,4),(1,2), \n",
        "         (4,2), \n",
        "         (2,9),(2,3),(2,11),\n",
        "         (9,8),(9,3),\n",
        "         (3,11),(3,10),(8,5),\n",
        "         (5,6),(5,7),(5,10),(10,7),\n",
        "         (6,7)\n",
        "       ] \n",
        "  G = nx.Graph()\n",
        "  G.add_edges_from(edges)               #make graph from edges \n",
        "  def test_findCommonNeighbours(self):\n",
        "    self.assertEqual(linkpredictionnetworkxv2.findCommonNeighbours(self.G,1,2),[4])\n",
        "    self.assertEqual(linkpredictionnetworkxv2.findCommonNeighbours(self.G,2,11),[3])\n",
        "    self.assertEqual(linkpredictionnetworkxv2.findCommonNeighbours(self.G,6,1),[])\n",
        "    self.assertEqual(linkpredictionnetworkxv2.findCommonNeighbours(self.G,5,7),[6,10])\n",
        "    self.assertEqual(linkpredictionnetworkxv2.findCommonNeighbours(self.G,3,4),[2])\n",
        "\n",
        "  def test_findAllLatentNeighbours(self):\n",
        "    self.assertEqual(linkpredictionnetworkxv2.findAllLatentNeighbours(self.G,2,True),[8,10])\n",
        "    self.assertEqual(linkpredictionnetworkxv2.findAllLatentNeighbours(self.G,2,False),[1,3,4,8,9,10,11])\n",
        "    self.assertEqual(linkpredictionnetworkxv2.findAllLatentNeighbours(self.G,5,True),[3,9])\n",
        "    self.assertEqual(linkpredictionnetworkxv2.findAllLatentNeighbours(self.G,1,True),[3,9,11])\n",
        "    self.assertEqual(linkpredictionnetworkxv2.findAllLatentNeighbours(self.G,10,True),[2,6,8,9,11])\n",
        "  \n",
        "  def test_neighbourhoodVector(self):\n",
        "        self.assertEqual(linkpredictionnetworkxv2.neighbourhoodVector(self.G,2).tolist(),[2.0,5.0,3.0,2.0,0.0,0.0,0.0,1.0,2.0,1.0,2.0])\n",
        "        self.assertEqual(linkpredictionnetworkxv2.neighbourhoodVector(self.G,5).tolist(),[0.0,0.0,1.0,0.0,4.0,2.0,3.0,1.0,1.0,2.0,0.0])\n",
        "\n",
        "  def test_unionNeighbourhood(self):\n",
        "    self.assertEqual(linkpredictionnetworkxv2.unionNeighbourhood([2.0,5.0,3.0,2.0,0.0,0.0,0.0,1.0,2.0,1.0,2.0],\n",
        "                                                                  [0.0,0.0,1.0,0.0,4.0,2.0,3.0,1.0,1.0,2.0,0.0]),[1,2,3,4,5,6,7,8,9,10,11])\n",
        "    self.assertEqual(linkpredictionnetworkxv2.unionNeighbourhood([1,1,0,0,0,0,0,0,0,0,0],\n",
        "                                                                  [0,0,0,0,0,0,0,0,0,0,0]),[1,2])\n",
        "    self.assertEqual(linkpredictionnetworkxv2.unionNeighbourhood([1,0,0,0,0,0,0,0,0,0,0],\n",
        "                                                                  [0,1,0,0,0,0,0,0,0,0,0]),[1,2])\n",
        "    \n",
        "  def test_NAvg(self):\n",
        "    self.assertEqual(round(linkpredictionnetworkxv2.NAvg([2.0,5.0,3.0,2.0,0.0,0.0,0.0,1.0,2.0,1.0,2.0],[1,2,3,4,5,6,7,8,9,10,11]),2),1.64)\n",
        "    self.assertEqual(round(linkpredictionnetworkxv2.NAvg([0.0,0.0,1.0,0.0,4.0,2.0,3.0,1.0,1.0,2.0,0.0],[1,2,3,4,5,6,7,8,9,10,11]),2),1.27)\n",
        "    self.assertEqual(round(linkpredictionnetworkxv2.NAvg([0,0,0,0,0,0,0,0,0,0,0],[1,2,3,4,5,6,7,8,9,10,11]),2),0)\n",
        "    self.assertEqual(round(linkpredictionnetworkxv2.NAvg([1,0,0,0,0,0,0,0,0,0,1],[1,11]),2),1)\n",
        "    self.assertEqual(round(linkpredictionnetworkxv2.NAvg([1,0,0,0,0,0,0,0,0,0,0],[1,11]),2),0.5)\n",
        "    self.assertEqual(round(linkpredictionnetworkxv2.NAvg([1,3,4,1,1,0,1,1,2,1,2],[1,2,3,4,5,6,7,8,9,10,11]),2),1.55)\n",
        "    self.assertEqual(round(linkpredictionnetworkxv2.NAvg([0,1,1,0,1,1,1,2,1,1,0],[1,2,3,4,5,6,7,8,9,10,11]),2),0.82)\n",
        "\n",
        "\n",
        "  def test_correlation(self):\n",
        "    self.assertEqual(round(linkpredictionnetworkxv2.correlation(G,2,5),2),-0.74)\n",
        "    self.assertEqual(round(linkpredictionnetworkxv2.correlation(G,3,8),2),0.01)\n",
        "    self.assertEqual(round(linkpredictionnetworkxv2.correlation(G,3,1),2),0.32)\n",
        "\n",
        "  def test_DICN(self):\n",
        "    self.assertEqual(round(linkpredictionnetworkxv2.DICN(G,2,5),2),0.26)\n",
        "\n",
        "\n",
        "  #the other tests are dependant on random values so cannot be tested using this method\n",
        "\n",
        "\n",
        "unittest.main(argv=[''], verbosity=2, exit=False)\n",
        "\n"
      ],
      "metadata": {
        "id": "6wj1P3EolZXD",
        "colab": {
          "base_uri": "https://localhost:8080/"
        },
        "outputId": "c6e928fc-afb9-40ea-906f-1d2165c1c559"
      },
      "execution_count": null,
      "outputs": [
        {
          "output_type": "stream",
          "name": "stderr",
          "text": [
            "test_DICN (__main__.TestLinkPredictions) ... ok\n",
            "test_NAvg (__main__.TestLinkPredictions) ... ok\n",
            "test_correlation (__main__.TestLinkPredictions) ... ok\n",
            "test_findAllLatentNeighbours (__main__.TestLinkPredictions) ... ok\n",
            "test_findCommonNeighbours (__main__.TestLinkPredictions) ... ok\n",
            "test_neighbourhoodVector (__main__.TestLinkPredictions) ... ok\n",
            "test_unionNeighbourhood (__main__.TestLinkPredictions) ... ok\n",
            "\n",
            "----------------------------------------------------------------------\n",
            "Ran 7 tests in 0.020s\n",
            "\n",
            "OK\n"
          ]
        },
        {
          "output_type": "execute_result",
          "data": {
            "text/plain": [
              "<unittest.main.TestProgram at 0x7f28d548dad0>"
            ]
          },
          "metadata": {},
          "execution_count": 98
        }
      ]
    }
  ]
}