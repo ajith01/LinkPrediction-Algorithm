{
  "cells": [
    {
      "cell_type": "markdown",
      "metadata": {
        "id": "td3mYSeqrl2q"
      },
      "source": [
        "# Link Prediction Using DeepSnap and Neural Network"
      ]
    },
    {
      "cell_type": "code",
      "execution_count": null,
      "metadata": {
        "id": "00awB2BZrs5C",
        "colab": {
          "base_uri": "https://localhost:8080/"
        },
        "outputId": "bbe1859d-9ae2-4658-d74e-16b99676ba80"
      },
      "outputs": [
        {
          "output_type": "stream",
          "name": "stdout",
          "text": [
            "Mounted at /content/drive\n"
          ]
        }
      ],
      "source": [
        "from google.colab import drive\n",
        "drive.mount('/content/drive')"
      ]
    },
    {
      "cell_type": "code",
      "execution_count": null,
      "metadata": {
        "id": "1SFfgqbcr310",
        "colab": {
          "base_uri": "https://localhost:8080/"
        },
        "outputId": "8dda0145-354f-40e0-aa6b-aec156e25b10"
      },
      "outputs": [
        {
          "output_type": "stream",
          "name": "stdout",
          "text": [
            "/content/drive/MyDrive/COSC4235_Research_Thesis/SocialNetworkAnalysis/Implementation/Datasets\n",
            " CiteSeer-ac-loss.pdf   Cora-sp.pdf            PubMed-f1-loss.pdf\n",
            " CiteSeer-ac.pdf        \u001b[0m\u001b[01;34mDatasets\u001b[0m/              PubMed-f1.pdf\n",
            " CiteSeer-f1-loss.pdf  'Dolphin- Degree.pdf'   PubMed-pc-loss.pdf\n",
            " CiteSeer-f1.pdf       'Dolphin- Degree.png'   PubMed-pc.pdf\n",
            " CiteSeer-pc-loss.pdf   dolphins.gml           PubMed-rc-loss.pdf\n",
            " CiteSeer-pc.pdf        dolphins.txt           PubMed-rc.pdf\n",
            " CiteSeer-rc-loss.pdf  'Email- Degree.pdf'     PubMed-ro-loss.pdf\n",
            " CiteSeer-rc.pdf       'Email- Degree.png'     PubMed-ro.pdf\n",
            " CiteSeer-ro-loss.pdf   email.txt              PubMed-sp-loss.pdf\n",
            " CiteSeer-ro.pdf        Facebook-ac-loss.pdf   PubMed-sp.pdf\n",
            " CiteSeer-sp-loss.pdf   Facebook-ac.pdf        \u001b[01;34mraw\u001b[0m/\n",
            " CiteSeer-sp.pdf        Facebook-f1-loss.pdf   soc-karate.mtx\n",
            " Cora-ac-loss.pdf       Facebook-f1.pdf        \u001b[01;34mtmp\u001b[0m/\n",
            " Cora-ac.pdf            Facebook-pc-loss.pdf   USAir97.net.txt\n",
            " Cora-f1-loss.pdf       Facebook-pc.pdf       'USAir- Degree.pdf'\n",
            " Cora-f1.pdf            Facebook-rc-loss.pdf  'USAir- Degree.png'\n",
            " Cora-pc-loss.pdf       Facebook-rc.pdf        \u001b[01;34myeast\u001b[0m/\n",
            " Cora-pc.pdf            Facebook-ro-loss.pdf  'Yeast- Degree.pdf'\n",
            " Cora-rc-loss.pdf       Facebook-ro.pdf       'Yeast- Degree.png'\n",
            " Cora-rc.pdf            LinkPrediction.ipynb   Yeast.paj\n",
            " Cora-ro-loss.pdf       \u001b[01;34mprocessed\u001b[0m/            'ZKC- Degree.pdf'\n",
            " Cora-ro.pdf            PubMed-ac-loss.pdf    'ZKC- Degree.png'\n",
            " Cora-sp-loss.pdf       PubMed-ac.pdf\n"
          ]
        }
      ],
      "source": [
        "%cd '/content/drive/MyDrive/COSC4235_Research_Thesis/SocialNetworkAnalysis/Implementation/Datasets'\n",
        "%ls"
      ]
    },
    {
      "cell_type": "code",
      "execution_count": null,
      "metadata": {
        "id": "rJE4-o4Dr5oI",
        "colab": {
          "base_uri": "https://localhost:8080/"
        },
        "outputId": "946fe051-2bca-461f-f079-b41c8817e765"
      },
      "outputs": [
        {
          "output_type": "stream",
          "name": "stdout",
          "text": [
            "Looking in links: https://data.pyg.org/whl/torch-1.10.0+cu113.html\n",
            "Collecting torch-scatter\n",
            "  Downloading https://data.pyg.org/whl/torch-1.10.0%2Bcu113/torch_scatter-2.0.9-cp37-cp37m-linux_x86_64.whl (7.9 MB)\n",
            "\u001b[K     |████████████████████████████████| 7.9 MB 5.7 MB/s \n",
            "\u001b[?25hInstalling collected packages: torch-scatter\n",
            "Successfully installed torch-scatter-2.0.9\n",
            "Looking in links: https://data.pyg.org/whl/torch-1.10.0+cu113.html\n",
            "Collecting torch-sparse\n",
            "  Downloading https://data.pyg.org/whl/torch-1.10.0%2Bcu113/torch_sparse-0.6.13-cp37-cp37m-linux_x86_64.whl (3.5 MB)\n",
            "\u001b[K     |████████████████████████████████| 3.5 MB 5.0 MB/s \n",
            "\u001b[?25hRequirement already satisfied: scipy in /usr/local/lib/python3.7/dist-packages (from torch-sparse) (1.4.1)\n",
            "Requirement already satisfied: numpy>=1.13.3 in /usr/local/lib/python3.7/dist-packages (from scipy->torch-sparse) (1.21.5)\n",
            "Installing collected packages: torch-sparse\n",
            "Successfully installed torch-sparse-0.6.13\n",
            "Collecting torch-geometric\n",
            "  Downloading torch_geometric-2.0.4.tar.gz (407 kB)\n",
            "\u001b[K     |████████████████████████████████| 407 kB 5.5 MB/s \n",
            "\u001b[?25hRequirement already satisfied: tqdm in /usr/local/lib/python3.7/dist-packages (from torch-geometric) (4.63.0)\n",
            "Requirement already satisfied: numpy in /usr/local/lib/python3.7/dist-packages (from torch-geometric) (1.21.5)\n",
            "Requirement already satisfied: scipy in /usr/local/lib/python3.7/dist-packages (from torch-geometric) (1.4.1)\n",
            "Requirement already satisfied: pandas in /usr/local/lib/python3.7/dist-packages (from torch-geometric) (1.3.5)\n",
            "Requirement already satisfied: jinja2 in /usr/local/lib/python3.7/dist-packages (from torch-geometric) (2.11.3)\n",
            "Requirement already satisfied: requests in /usr/local/lib/python3.7/dist-packages (from torch-geometric) (2.23.0)\n",
            "Requirement already satisfied: pyparsing in /usr/local/lib/python3.7/dist-packages (from torch-geometric) (3.0.7)\n",
            "Requirement already satisfied: scikit-learn in /usr/local/lib/python3.7/dist-packages (from torch-geometric) (1.0.2)\n",
            "Requirement already satisfied: MarkupSafe>=0.23 in /usr/local/lib/python3.7/dist-packages (from jinja2->torch-geometric) (2.0.1)\n",
            "Requirement already satisfied: pytz>=2017.3 in /usr/local/lib/python3.7/dist-packages (from pandas->torch-geometric) (2018.9)\n",
            "Requirement already satisfied: python-dateutil>=2.7.3 in /usr/local/lib/python3.7/dist-packages (from pandas->torch-geometric) (2.8.2)\n",
            "Requirement already satisfied: six>=1.5 in /usr/local/lib/python3.7/dist-packages (from python-dateutil>=2.7.3->pandas->torch-geometric) (1.15.0)\n",
            "Requirement already satisfied: certifi>=2017.4.17 in /usr/local/lib/python3.7/dist-packages (from requests->torch-geometric) (2021.10.8)\n",
            "Requirement already satisfied: idna<3,>=2.5 in /usr/local/lib/python3.7/dist-packages (from requests->torch-geometric) (2.10)\n",
            "Requirement already satisfied: urllib3!=1.25.0,!=1.25.1,<1.26,>=1.21.1 in /usr/local/lib/python3.7/dist-packages (from requests->torch-geometric) (1.24.3)\n",
            "Requirement already satisfied: chardet<4,>=3.0.2 in /usr/local/lib/python3.7/dist-packages (from requests->torch-geometric) (3.0.4)\n",
            "Requirement already satisfied: threadpoolctl>=2.0.0 in /usr/local/lib/python3.7/dist-packages (from scikit-learn->torch-geometric) (3.1.0)\n",
            "Requirement already satisfied: joblib>=0.11 in /usr/local/lib/python3.7/dist-packages (from scikit-learn->torch-geometric) (1.1.0)\n",
            "Building wheels for collected packages: torch-geometric\n",
            "  Building wheel for torch-geometric (setup.py) ... \u001b[?25l\u001b[?25hdone\n",
            "  Created wheel for torch-geometric: filename=torch_geometric-2.0.4-py3-none-any.whl size=616603 sha256=22c70dcbaf01d490d6ab442dac62a66d183e06bf407c200901f8856065da5446\n",
            "  Stored in directory: /root/.cache/pip/wheels/18/a6/a4/ca18c3051fcead866fe7b85700ee2240d883562a1bc70ce421\n",
            "Successfully built torch-geometric\n",
            "Installing collected packages: torch-geometric\n",
            "Successfully installed torch-geometric-2.0.4\n",
            "  Building wheel for deepsnap (setup.py) ... \u001b[?25l\u001b[?25hdone\n"
          ]
        }
      ],
      "source": [
        "import os\n",
        "if 'IS_DEEPSNAP_ENV' not in os.environ:\n",
        "  !pip install torch-scatter -f https://data.pyg.org/whl/torch-1.10.0+cu113.html\n",
        "  !pip install torch-sparse -f https://data.pyg.org/whl/torch-1.10.0+cu113.html\n",
        "  !pip install torch-geometric\n",
        "  !pip install -q git+https://github.com/snap-stanford/deepsnap.git"
      ]
    },
    {
      "cell_type": "code",
      "execution_count": null,
      "metadata": {
        "id": "h_ulcvTpsjkH"
      },
      "outputs": [],
      "source": [
        "import torch\n",
        "import warnings\n",
        "import networkx as nx\n",
        "import matplotlib.pyplot as plt\n",
        "\n",
        "from pylab import *\n",
        "from copy import deepcopy\n",
        "from deepsnap.graph import Graph\n",
        "from deepsnap.batch import Batch\n",
        "from deepsnap.dataset import GraphDataset\n",
        "from torch.utils.data import DataLoader\n",
        "\n",
        "# Disable DeepSNAP warnings for clearer printout in the tutorial\n",
        "warnings.filterwarnings(\"ignore\")"
      ]
    },
    {
      "cell_type": "markdown",
      "metadata": {
        "id": "bCBLkXpWtOBa"
      },
      "source": [
        "Links are seperated into two types: Message passing and supervising links. Message passing are used to make the GNN (used for making node embeddings) and supervision links are used for loss propagation in backwords propagation \n",
        "\n",
        "\n",
        "For supervision links, we can use negative sampling (links that do not already exist in the original graph)\n",
        "\n",
        "Deep snap will create these links automatically and label them 1 if they are positive samplings (i.e they already exist) and 0 if negative samplings \n",
        "\n",
        "if the nodes already have a label, they will be shifted by 1 (add 1 to the labels) the negative sampling label will be 0"
      ]
    },
    {
      "cell_type": "code",
      "execution_count": null,
      "metadata": {
        "id": "OyGNirUpwNb6",
        "colab": {
          "base_uri": "https://localhost:8080/",
          "height": 662
        },
        "outputId": "97bcd840-26ed-48af-f776-de8b843d147f"
      },
      "outputs": [
        {
          "output_type": "stream",
          "name": "stdout",
          "text": [
            "[0, 1, 2, 3, 4, 5, 6, 7, 8, 9, 10, 11, 12, 13, 14, 15, 16, 17, 18, 19, 20, 21, 22, 23, 24, 25, 26, 27, 28, 29, 30, 31, 32, 33, 34, 35, 36, 37, 38, 39, 40, 41, 42, 43, 44, 45, 46, 47, 48, 49, 50, 51, 52, 53, 54, 55, 56, 57, 58, 59, 60, 61, 62, 63, 64, 65, 66, 67, 68, 69, 70, 71, 72, 73, 74, 75, 76, 77, 78, 79, 80, 81, 82, 83, 84, 85, 86, 87, 88, 89, 90, 91, 92, 93, 94, 95, 96, 97, 98, 99, 100, 101, 102, 103, 104, 105, 106, 107, 108, 109, 110, 111, 112, 113, 114, 115, 116, 117, 118, 119, 120, 121, 122, 123, 124, 125, 126, 127, 128, 129, 130, 131, 132, 133, 134, 135, 136, 137, 138, 139, 140, 141, 142, 143, 144, 145, 146, 147, 148, 149, 150, 151, 152, 153, 154, 155, 156, 157, 158, 159, 160, 161, 162, 163, 164, 165, 166, 167, 168, 169, 170, 171, 172, 173, 174, 175, 176, 177, 178, 179, 180, 181, 182, 183, 184, 185, 186, 187, 188, 189, 190, 191, 192, 193, 194, 195, 196, 197, 198, 199, 200, 201, 202, 203, 204, 205, 206, 207, 208, 209, 210, 211, 212, 213, 214, 215, 216, 217, 218, 219, 220, 221, 222, 223, 224, 225, 226, 227, 228, 229, 230, 231, 232, 233, 234, 235, 236, 237, 238, 239, 240, 241, 242, 243, 244, 245, 246, 247, 248, 249, 250, 251, 252, 253, 254, 255, 256, 257, 258, 259, 260, 261, 262, 263, 264, 265, 266, 267, 268, 269, 270, 271, 272, 273, 274, 275, 276, 277, 278, 279, 280, 281, 282, 283, 284, 285, 286, 287, 288, 289, 290, 291, 292, 293, 294, 295, 296, 297, 298, 299, 300, 301, 302, 303, 304, 305, 306, 307, 308, 309, 310, 311, 312, 313, 314, 315, 316, 317, 318, 319, 320, 321, 322, 323, 324, 325, 326, 327, 328, 329, 330, 331, 332, 333, 334, 335, 336, 337, 338, 339, 340, 341, 342, 343, 344, 345, 346, 347, 348, 349, 350, 351, 352, 353, 354, 355, 356, 357, 358, 359, 360, 361, 362, 363, 364, 365, 366, 367, 368, 369, 370, 371, 372, 373, 374, 375, 376, 377, 378, 379, 380, 381, 382, 383, 384, 385, 386, 387, 388, 389, 390, 391, 392, 393, 394, 395, 396, 397, 398, 399, 400, 401, 402, 403, 404, 405, 406, 407, 408, 409, 410, 411, 412, 413, 414, 415, 416, 417, 418, 419, 420, 421, 422, 423, 424, 425, 426, 427, 428, 429, 430, 431, 432, 433, 434, 435, 436, 437, 438, 439, 440, 441, 442, 443, 444, 445, 446, 447, 448, 449, 450, 451, 452, 453, 454, 455, 456, 457, 458, 459, 460, 461, 462, 463, 464, 465, 466, 467, 468, 469, 470, 471, 472, 473, 474, 475, 476, 477, 478, 479, 480, 481, 482, 483, 484, 485, 486, 487, 488, 489, 490, 491, 492, 493, 494, 495, 496, 497, 498, 499, 500, 501, 502, 503, 504, 505, 506, 507, 508, 509, 510, 511, 512, 513, 514, 515, 516, 517, 518, 519, 520, 521, 522, 523, 524, 525, 526, 527, 528, 529, 530, 531, 532, 533, 534, 535, 536, 537, 538, 539, 540, 541, 542, 543, 544, 545, 546, 547, 548, 549, 550, 551, 552, 553, 554, 555, 556, 557, 558, 559, 560, 561, 562, 563, 564, 565, 566, 567, 568, 569, 570, 571, 572, 573, 574, 575, 576, 577, 578, 579, 580, 581, 582, 583, 584, 585, 586, 587, 588, 589, 590, 591, 592, 593, 594, 595, 596, 597, 598, 599, 600, 601, 602, 603, 604, 605, 606, 607, 608, 609, 610, 611, 612, 613, 614, 615, 616, 617, 618, 619, 620, 621, 622, 623, 624, 625, 626, 627, 628, 629, 630, 631, 632, 633, 634, 635, 636, 637, 638, 639, 640, 641, 642, 643, 644, 645, 646, 647, 648, 649, 650, 651, 652, 653, 654, 655, 656, 657, 658, 659, 660, 661, 662, 663, 664, 665, 666, 667, 668, 669, 670, 671, 672, 673, 674, 675, 676, 677, 678, 679, 680, 681, 682, 683, 684, 685, 686, 687, 688, 689, 690, 691, 692, 693, 694, 695, 696, 697, 698, 699, 700, 701, 702, 703, 704, 705, 706, 707, 708, 709, 710, 711, 712, 713, 714, 715, 716, 717, 718, 719, 720, 721, 722, 723, 724, 725, 726, 727, 728, 729, 730, 731, 732, 733, 734, 735, 736, 737, 738, 739, 740, 741, 742, 743, 744, 745, 746, 747, 748, 749, 750, 751, 752, 753, 754, 755, 756, 757, 758, 759, 760, 761, 762, 763, 764, 765, 766, 767, 768, 769, 770, 771, 772, 773, 774, 775, 776, 777, 778, 779, 780, 781, 782, 783, 784, 785, 786, 787, 788, 789, 790, 791, 792, 793, 794, 795, 796, 797, 798, 799, 800, 801, 802, 803, 804, 805, 806, 807, 808, 809, 810, 811, 812, 813, 814, 815, 816, 817, 818, 819, 820, 821, 822, 823, 824, 825, 826, 827, 828, 829, 830, 831, 832, 833, 834, 835, 836, 837, 838, 839, 840, 841, 842, 843, 844, 845, 846, 847, 848, 849, 850, 851, 852, 853, 854, 855, 856, 857, 858, 859, 860, 861, 862, 863, 864, 865, 866, 867, 868, 869, 870, 871, 872, 873, 874, 875, 876, 877, 878, 879, 880, 881, 882, 883, 884, 885, 886, 887, 888, 889, 890, 891, 892, 893, 894, 895, 896, 897, 898, 899, 900, 901, 902, 903, 904, 905, 906, 907, 908, 909, 910, 911, 912, 913, 914, 915, 916, 917, 918, 919, 920, 921, 922, 923, 924, 925, 926, 927, 928, 929, 930, 931, 932, 933, 934, 935, 936, 937, 938, 939, 940, 941, 942, 943, 944, 945, 946, 947, 948, 949, 950, 951, 952, 953, 954, 955, 956, 957, 958, 959, 960, 961, 962, 963, 964, 965, 966, 967, 968, 969, 970, 971, 972, 973, 974, 975, 976, 977, 978, 979, 980, 981, 982, 983, 984, 985, 986, 987, 988, 989, 990, 991, 992, 993, 994, 995, 996, 997, 998, 999, 1000, 1001, 1002, 1003, 1004, 1005, 1006, 1007, 1008, 1009, 1010, 1011, 1012, 1013, 1014, 1015, 1016, 1017, 1018, 1019, 1020, 1021, 1022, 1023, 1024, 1025, 1026, 1027, 1028, 1029, 1030, 1031, 1032, 1033, 1034, 1035, 1036, 1037, 1038, 1039, 1040, 1041, 1042, 1043, 1044, 1045, 1046, 1047, 1048, 1049, 1050, 1051, 1052, 1053, 1054, 1055, 1056, 1057, 1058, 1059, 1060, 1061, 1062, 1063, 1064, 1065, 1066, 1067, 1068, 1069, 1070, 1071, 1072, 1073, 1074, 1075, 1076, 1077, 1078, 1079, 1080, 1081, 1082, 1083, 1084, 1085, 1086, 1087, 1088, 1089, 1090, 1091, 1092, 1093, 1094, 1095, 1096, 1097, 1098, 1099, 1100, 1101, 1102, 1103, 1104, 1105, 1106, 1107, 1108, 1109, 1110, 1111, 1112, 1113, 1114, 1115, 1116, 1117, 1118, 1119, 1120, 1121, 1122, 1123, 1124, 1125, 1126, 1127, 1128, 1129, 1130, 1131, 1132, 1133, 1134, 1135, 1136, 1137, 1138, 1139, 1140, 1141, 1142, 1143, 1144, 1145, 1146, 1147, 1148, 1149, 1150, 1151, 1152, 1153, 1154, 1155, 1156, 1157, 1158, 1159, 1160, 1161, 1162, 1163, 1164, 1165, 1166, 1167, 1168, 1169, 1170, 1171, 1172, 1173, 1174, 1175, 1176, 1177, 1178, 1179, 1180, 1181, 1182, 1183, 1184, 1185, 1186, 1187, 1188, 1189, 1190, 1191, 1192, 1193, 1194, 1195, 1196, 1197, 1198, 1199, 1200, 1201, 1202, 1203, 1204, 1205, 1206, 1207, 1208, 1209, 1210, 1211, 1212, 1213, 1214, 1215, 1216, 1217, 1218, 1219, 1220, 1221, 1222, 1223, 1224, 1225, 1226, 1227, 1228, 1229, 1230, 1231, 1232, 1233, 1234, 1235, 1236, 1237, 1238, 1239, 1240, 1241, 1242, 1243, 1244, 1245, 1246, 1247, 1248, 1249, 1250, 1251, 1252, 1253, 1254, 1255, 1256, 1257, 1258, 1259, 1260, 1261, 1262, 1263, 1264, 1265, 1266, 1267, 1268, 1269, 1270, 1271, 1272, 1273, 1274, 1275, 1276, 1277, 1278, 1279, 1280, 1281, 1282, 1283, 1284, 1285, 1286, 1287, 1288, 1289, 1290, 1291, 1292, 1293, 1294, 1295, 1296, 1297, 1298, 1299, 1300, 1301, 1302, 1303, 1304, 1305, 1306, 1307, 1308, 1309, 1310, 1311, 1312, 1313, 1314, 1315, 1316, 1317, 1318, 1319, 1320, 1321, 1322, 1323, 1324, 1325, 1326, 1327, 1328, 1329, 1330, 1331, 1332, 1333, 1334, 1335, 1336, 1337, 1338, 1339, 1340, 1341, 1342, 1343, 1344, 1345, 1346, 1347, 1348, 1349, 1350, 1351, 1352, 1353, 1354, 1355, 1356, 1357, 1358, 1359, 1360, 1361, 1362, 1363, 1364, 1365, 1366, 1367, 1368, 1369, 1370, 1371, 1372, 1373, 1374, 1375, 1376, 1377, 1378, 1379, 1380, 1381, 1382, 1383, 1384, 1385, 1386, 1387, 1388, 1389, 1390, 1391, 1392, 1393, 1394, 1395, 1396, 1397, 1398, 1399, 1400, 1401, 1402, 1403, 1404, 1405, 1406, 1407, 1408, 1409, 1410, 1411, 1412, 1413, 1414, 1415, 1416, 1417, 1418, 1419, 1420, 1421, 1422, 1423, 1424, 1425, 1426, 1427, 1428, 1429, 1430, 1431, 1432, 1433, 1434, 1435, 1436, 1437, 1438, 1439, 1440, 1441, 1442, 1443, 1444, 1445, 1446, 1447, 1448, 1449, 1450, 1451, 1452, 1453, 1454, 1455, 1456, 1457, 1458, 1459, 1460, 1461, 1462, 1463, 1464, 1465, 1466, 1467, 1468, 1469, 1470, 1471, 1472, 1473, 1474, 1475, 1476, 1477, 1478, 1479, 1480, 1481, 1482, 1483, 1484, 1485, 1486, 1487, 1488, 1489, 1490, 1491, 1492, 1493, 1494, 1495, 1496, 1497, 1498, 1499, 1500, 1501, 1502, 1503, 1504, 1505, 1506, 1507, 1508, 1509, 1510, 1511, 1512, 1513, 1514, 1515, 1516, 1517, 1518, 1519, 1520, 1521, 1522, 1523, 1524, 1525, 1526, 1527, 1528, 1529, 1530, 1531, 1532, 1533, 1534, 1535, 1536, 1537, 1538, 1539, 1540, 1541, 1542, 1543, 1544, 1545, 1546, 1547, 1548, 1549, 1550, 1551, 1552, 1553, 1554, 1555, 1556, 1557, 1558, 1559, 1560, 1561, 1562, 1563, 1564, 1565, 1566, 1567, 1568, 1569, 1570, 1571, 1572, 1573, 1574, 1575, 1576, 1577, 1578, 1579, 1580, 1581, 1582, 1583, 1584, 1585, 1586, 1587, 1588, 1589, 1590, 1591, 1592, 1593, 1594, 1595, 1596, 1597, 1598, 1599, 1600, 1601, 1602, 1603, 1604, 1605, 1606, 1607, 1608, 1609, 1610, 1611, 1612, 1613, 1614, 1615, 1616, 1617, 1618, 1619, 1620, 1621, 1622, 1623, 1624, 1625, 1626, 1627, 1628, 1629, 1630, 1631, 1632, 1633, 1634, 1635, 1636, 1637, 1638, 1639, 1640, 1641, 1642, 1643, 1644, 1645, 1646, 1647, 1648, 1649, 1650, 1651, 1652, 1653, 1654, 1655, 1656, 1657, 1658, 1659, 1660, 1661, 1662, 1663, 1664, 1665, 1666, 1667, 1668, 1669, 1670, 1671, 1672, 1673, 1674, 1675, 1676, 1677, 1678, 1679, 1680, 1681, 1682, 1683, 1684, 1685, 1686, 1687, 1688, 1689, 1690, 1691, 1692, 1693, 1694, 1695, 1696, 1697, 1698, 1699, 1700, 1701, 1702, 1703, 1704, 1705, 1706, 1707, 1708, 1709, 1710, 1711, 1712, 1713, 1714, 1715, 1716, 1717, 1718, 1719, 1720, 1721, 1722, 1723, 1724, 1725, 1726, 1727, 1728, 1729, 1730, 1731, 1732, 1733, 1734, 1735, 1736, 1737, 1738, 1739, 1740, 1741, 1742, 1743, 1744, 1745, 1746, 1747, 1748, 1749, 1750, 1751, 1752, 1753, 1754, 1755, 1756, 1757, 1758, 1759, 1760, 1761, 1762, 1763, 1764, 1765, 1766, 1767, 1768, 1769, 1770, 1771, 1772, 1773, 1774, 1775, 1776, 1777, 1778, 1779, 1780, 1781, 1782, 1783, 1784, 1785, 1786, 1787, 1788, 1789, 1790, 1791, 1792, 1793, 1794, 1795, 1796, 1797, 1798, 1799, 1800, 1801, 1802, 1803, 1804, 1805, 1806, 1807, 1808, 1809, 1810, 1811, 1812, 1813, 1814, 1815, 1816, 1817, 1818, 1819, 1820, 1821, 1822, 1823, 1824, 1825, 1826, 1827, 1828, 1829, 1830, 1831, 1832, 1833, 1834, 1835, 1836, 1837, 1838, 1839, 1840, 1841, 1842, 1843, 1844, 1845, 1846, 1847, 1848, 1849, 1850, 1851, 1852, 1853, 1854, 1855, 1856, 1857, 1858, 1859, 1860, 1861, 1862, 1863, 1864, 1865, 1866, 1867, 1868, 1869, 1870, 1871, 1872, 1873, 1874, 1875, 1876, 1877, 1878, 1879, 1880, 1881, 1882, 1883, 1884, 1885, 1886, 1887, 1888, 1889, 1890, 1891, 1892, 1893, 1894, 1895, 1896, 1897, 1898, 1899, 1900, 1901, 1902, 1903, 1904, 1905, 1906, 1907, 1908, 1909, 1910, 1911, 1912, 1913, 1914, 1915, 1916, 1917, 1918, 1919, 1920, 1921, 1922, 1923, 1924, 1925, 1926, 1927, 1928, 1929, 1930, 1931, 1932, 1933, 1934, 1935, 1936, 1937, 1938, 1939, 1940, 1941, 1942, 1943, 1944, 1945, 1946, 1947, 1948, 1949, 1950, 1951, 1952, 1953, 1954, 1955, 1956, 1957, 1958, 1959, 1960, 1961, 1962, 1963, 1964, 1965, 1966, 1967, 1968, 1969, 1970, 1971, 1972, 1973, 1974, 1975, 1976, 1977, 1978, 1979, 1980, 1981, 1982, 1983, 1984, 1985, 1986, 1987, 1988, 1989, 1990, 1991, 1992, 1993, 1994, 1995, 1996, 1997, 1998, 1999, 2000, 2001, 2002, 2003, 2004, 2005, 2006, 2007, 2008, 2009, 2010, 2011, 2012, 2013, 2014, 2015, 2016, 2017, 2018, 2019, 2020, 2021, 2022, 2023, 2024, 2025, 2026, 2027, 2028, 2029, 2030, 2031, 2032, 2033, 2034, 2035, 2036, 2037, 2038, 2039, 2040, 2041, 2042, 2043, 2044, 2045, 2046, 2047, 2048, 2049, 2050, 2051, 2052, 2053, 2054, 2055, 2056, 2057, 2058, 2059, 2060, 2061, 2062, 2063, 2064, 2065, 2066, 2067, 2068, 2069, 2070, 2071, 2072, 2073, 2074, 2075, 2076, 2077, 2078, 2079, 2080, 2081, 2082, 2083, 2084, 2085, 2086, 2087, 2088, 2089, 2090, 2091, 2092, 2093, 2094, 2095, 2096, 2097, 2098, 2099, 2100, 2101, 2102, 2103, 2104, 2105, 2106, 2107, 2108, 2109, 2110, 2111, 2112, 2113, 2114, 2115, 2116, 2117, 2118, 2119, 2120, 2121, 2122, 2123, 2124, 2125, 2126, 2127, 2128, 2129, 2130, 2131, 2132, 2133, 2134, 2135, 2136, 2137, 2138, 2139, 2140, 2141, 2142, 2143, 2144, 2145, 2146, 2147, 2148, 2149, 2150, 2151, 2152, 2153, 2154, 2155, 2156, 2157, 2158, 2159, 2160, 2161, 2162, 2163, 2164, 2165, 2166, 2167, 2168, 2169, 2170, 2171, 2172, 2173, 2174, 2175, 2176, 2177, 2178, 2179, 2180, 2181, 2182, 2183, 2184, 2185, 2186, 2187, 2188, 2189, 2190, 2191, 2192, 2193, 2194, 2195, 2196, 2197, 2198, 2199, 2200, 2201, 2202, 2203, 2204, 2205, 2206, 2207, 2208, 2209, 2210, 2211, 2212, 2213, 2214, 2215, 2216, 2217, 2218, 2219, 2220, 2221, 2222, 2223, 2224, 2225, 2226, 2227, 2228, 2229, 2230, 2231, 2232, 2233, 2234, 2235, 2236, 2237, 2238, 2239, 2240, 2241, 2242, 2243, 2244, 2245, 2246, 2247, 2248, 2249, 2250, 2251, 2252, 2253, 2254, 2255, 2256, 2257, 2258, 2259, 2260, 2261, 2262, 2263, 2264, 2265, 2266, 2267, 2268, 2269, 2270, 2271, 2272, 2273, 2274, 2275, 2276, 2277, 2278, 2279, 2280, 2281, 2282, 2283, 2284, 2285, 2286, 2287, 2288, 2289, 2290, 2291, 2292, 2293, 2294, 2295, 2296, 2297, 2298, 2299, 2300, 2301, 2302, 2303, 2304, 2305, 2306, 2307, 2308, 2309, 2310, 2311, 2312, 2313, 2314, 2315, 2316, 2317, 2318, 2319, 2320, 2321, 2322, 2323, 2324, 2325, 2326, 2327, 2328, 2329, 2330, 2331, 2332, 2333, 2334, 2335, 2336, 2337, 2338, 2339, 2340, 2341, 2342, 2343, 2344, 2345, 2346, 2347, 2348, 2349, 2350, 2351, 2352, 2353, 2354, 2355, 2356, 2357, 2358, 2359, 2360, 2361, 2362, 2363, 2364, 2365, 2366]\n",
            "The graph has 2367 nodes and 7186 edges\n"
          ]
        },
        {
          "output_type": "display_data",
          "data": {
            "text/plain": [
              "<Figure size 576x576 with 1 Axes>"
            ],
            "image/png": "[encoded data removed]"
          },
          "metadata": {}
        }
      ],
      "source": [
        "\n",
        "Yeast_G = nx.read_pajek(\"Yeast.paj\")\n",
        "Yeast_G = nx.convert_node_labels_to_integers(Yeast_G)\n",
        "\n",
        "print(Yeast_G.nodes)\n",
        "print(\"The graph has {} nodes and {} edges\".format(Yeast_G.number_of_nodes(), Yeast_G.number_of_edges()))\n",
        "\n",
        "pos = nx.spring_layout(Yeast_G, seed=1)\n",
        "plt.figure(figsize=(8, 8))\n",
        "nx.draw(Yeast_G, pos=pos, cmap=plt.get_cmap('coolwarm'), node_color=\"blue\", connectionstyle='arc3, rad = 0.01')\n",
        "plt.show()\n"
      ]
    },
    {
      "cell_type": "markdown",
      "metadata": {
        "id": "oGfKMtcrxkZ0"
      },
      "source": [
        "There are two possible modes of selecting the supervision edges. All edges are included in the supervision edges \n",
        "\n",
        "\n",
        "* At training time: the training supervision edges are same as the training message passing edges.\n",
        "* At validation time: the message passing edges are the training message passing edges and training supervision edges (still the training message passing edges in this case). The validation supervision edges are disjoint with training supervision edges.\n",
        "* At test time: the message passing edges are the union of training message passing edges, training supervision edges, and validation supervision edges. The test supervision edges are disjoint with training supervision edges and validation supervision edges.\n",
        "\n",
        "In general, in all edges mode, the supervision node and the message passing nodes are the same, and the supervision node is all the nodes \n",
        "\n",
        "\n",
        "When disjoint mode is selected, the message passing edges are different from supervising edges \n",
        "\n",
        "* At training time: the training supervision edges are disjoint with the training message passing edges.\n",
        "* At validation time: the message passing edges are the union of training message passing edges and training supervision edges. Notice that the validation supervision edges are disjoint with training supervision edges.\n",
        "* At test time: the message passing edges are the training message passing edges, training supervision edges, and validation supervision edges. The test supervision edges are disjoint with training supervision edges and validation supervision edges."
      ]
    },
    {
      "cell_type": "code",
      "execution_count": null,
      "metadata": {
        "id": "9A_7S_Id5tUt"
      },
      "outputs": [],
      "source": [
        "import copy\n",
        "import torch\n",
        "import torch.nn as nn\n",
        "import networkx as nx\n",
        "import torch.nn.functional as F\n",
        "import matplotlib.pyplot as plt\n",
        "\n",
        "from deepsnap.graph import Graph\n",
        "from deepsnap.batch import Batch\n",
        "from deepsnap.dataset import GraphDataset\n",
        "from torch_geometric.datasets import Planetoid, TUDataset, FacebookPagePage\n",
        "\n",
        "from torch.utils.data import DataLoader\n",
        "from torch_geometric.nn import SAGEConv\n",
        "\n",
        "\n",
        "from torch_geometric.nn import TAGConv\n",
        "from torch_geometric.nn import TopKPooling\n",
        "\n",
        "\n",
        "from torch_geometric.utils import from_networkx, to_networkx\n",
        "\n",
        "from sklearn.metrics import precision_score #Precision (PC)\n",
        "from sklearn.metrics import recall_score #Recall (RC)\n",
        "from sklearn.metrics import f1_score #F1-score (F1), \n",
        "from sklearn.metrics import accuracy_score #Accuracy (AC)\n",
        "\n",
        "from sklearn.metrics import precision_recall_fscore_support #Support (SP)\n",
        "\n",
        "# Support (SP), what is this? calclate true false positve\n",
        "#number of occurances in each class\n",
        "\n",
        "\n",
        "from sklearn.metrics import roc_auc_score # Area Under the Receiver Operating Characteristic Curve (RO)\n",
        "\n"
      ]
    },
    {
      "cell_type": "code",
      "execution_count": null,
      "metadata": {
        "id": "UHPIYyWS6-Bl"
      },
      "outputs": [],
      "source": [
        "from IPython.core.debugger import set_trace #used for debugging"
      ]
    },
    {
      "cell_type": "code",
      "source": [
        "from torch_geometric.nn import SAGEConv, GCNConv, GATConv, GATv2Conv\n"
      ],
      "metadata": {
        "id": "iv979Dvca3HU"
      },
      "execution_count": null,
      "outputs": []
    },
    {
      "cell_type": "code",
      "source": [
        "precision_recall_fscore_support([1,1,1,0,0,1,1,1], [1,1,0,0,1,1,1,1])[3]"
      ],
      "metadata": {
        "id": "i0ymGPTrLQO1",
        "colab": {
          "base_uri": "https://localhost:8080/"
        },
        "outputId": "7672d0c5-39d8-4328-d1dc-66459fbd573b"
      },
      "execution_count": null,
      "outputs": [
        {
          "output_type": "execute_result",
          "data": {
            "text/plain": [
              "array([2, 6])"
            ]
          },
          "metadata": {},
          "execution_count": 9
        }
      ]
    },
    {
      "cell_type": "code",
      "execution_count": null,
      "metadata": {
        "id": "arRwLMnf3_V0"
      },
      "outputs": [],
      "source": [
        "class LinkPredModel(torch.nn.Module):\n",
        "    def __init__(self, input_size, hidden_size):\n",
        "        super(LinkPredModel, self).__init__()\n",
        "\n",
        "        self.conv1 = GATv2Conv(input_size, hidden_size)\n",
        "        self.conv2 = GATv2Conv(hidden_size, hidden_size)\n",
        "        self.conv3 = GATv2Conv(hidden_size, hidden_size)\n",
        "        self.conv4 = GATv2Conv(hidden_size, hidden_size)\n",
        "\n",
        "        self.bn1 = nn.BatchNorm1d(hidden_size)\n",
        "        self.bn2 = nn.BatchNorm1d(hidden_size)\n",
        "        self.bn3 = nn.BatchNorm1d(hidden_size)\n",
        "\n",
        "\n",
        "        self.loss_fn = torch.nn.BCEWithLogitsLoss() #lossfunction\n",
        "\n",
        "\n",
        "    def forward(self, batch):\n",
        "        x, edge_index, edge_label_index = batch.node_feature, batch.edge_index, batch.edge_label_index\n",
        "\n",
        "        x = self.conv1(x, edge_index)\n",
        "        x = self.bn1(x)\n",
        "        x = F.leaky_relu(x)\n",
        "        x = F.dropout(x)\n",
        "        x = self.conv2(x, edge_index)\n",
        "        x = self.bn2(x)\n",
        "        x = F.leaky_relu(x)\n",
        "        x = self.conv3(x, edge_index)\n",
        "        x = self.bn3(x)\n",
        "\n",
        "        nodes_first = torch.index_select(x, 0, edge_label_index[0,:].long())   #get the first matrix, all of the rows\n",
        "\n",
        "        nodes_second = torch.index_select(x, 0, edge_label_index[1,:].long())  #second matrix all rows \n",
        "        pred = torch.sum(nodes_first * nodes_second, dim=-1)  #multiply the n x n vector and flatten it\n",
        "        return pred\n",
        "    \n",
        "    def loss(self, pred, label): \n",
        "        return self.loss_fn(pred, label) #here is where the loss function is difined, it can be changed"
      ]
    },
    {
      "cell_type": "code",
      "execution_count": null,
      "metadata": {
        "id": "dP3KFQMd4b2B"
      },
      "outputs": [],
      "source": [
        "def train(model, dataloaders, optimizer, args):\n",
        "    val_max = 0\n",
        "    best_model = model\n",
        "\n",
        "    train_acc, test_acc, train_loss = [],[],[]\n",
        "    for epoch in range(1, args[\"epochs\"]):\n",
        "        for i, batch in enumerate(dataloaders['train']):\n",
        "            accumulative_loss = 0 #accumulative loss counter \n",
        "            \n",
        "            batch.to(args[\"device\"])\n",
        "            model.train()\n",
        "            optimizer.zero_grad()\n",
        "            pred = model(batch)\n",
        "            loss = model.loss(pred, batch.edge_label.type(pred.dtype))\n",
        "            loss.backward()\n",
        "            optimizer.step()\n",
        "            accumulative_loss += loss.item() #.item() returns the tensor as python number\n",
        "\n",
        "            log = 'Epoch: {:03d}, Train: {:.4f}, Val: {:.4f}, Test: {:.4f}, Loss: {:.5f}'\n",
        "            score_train = test(model, dataloaders['train'], args)\n",
        "            score_val = test(model, dataloaders['val'], args)\n",
        "            score_test = test(model, dataloaders['test'], args)\n",
        "\n",
        "            train_acc.append(score_train)\n",
        "            test_acc.append(score_test)\n",
        "            \n",
        "            #fix this\n",
        "            # print(epoch, score_train, score_val, score_test, loss.item())\n",
        "            print(log.format(epoch, score_train, score_val, score_test, loss.item()))\n",
        "            if val_max < score_val:\n",
        "                val_max = score_val\n",
        "                best_model = copy.deepcopy(model)\n",
        "\n",
        "            train_loss.append(accumulative_loss/len(dataloaders['train']))\n",
        "        \n",
        "    return (best_model,train_acc, test_acc, train_loss)\n",
        "\n",
        "def test(model, dataloader, args):\n",
        "    model.eval()\n",
        "    score = 0\n",
        "    num_batches = 0\n",
        "    for batch in dataloader:\n",
        "        batch.to(args[\"device\"])\n",
        "        pred = model(batch)\n",
        "        pred = torch.sigmoid(pred)\n",
        "        pred_class = []\n",
        "\n",
        "        for i in pred:\n",
        "            if (1 - i) < 0.35:\n",
        "                pred_class.append(1)\n",
        "            else:\n",
        "                pred_class.append(0)\n",
        "\n",
        "        # score += roc_auc_score(batch.edge_label.flatten().cpu().numpy(), pred.flatten().data.cpu().numpy()) #ROC accuracy \n",
        "        score += sum(precision_recall_fscore_support(batch.edge_label.flatten().cpu().numpy(), pred_class)[3])#ROC accuracy \n",
        "        # score += sum(accuracy_score(batch.edge_label.flatten().cpu().numpy(), pred_class))#ROC accuracy \n",
        "\n",
        "        num_batches += 1\n",
        "    # score /= num_batches   #remove this for support\n",
        "    return score\n"
      ]
    },
    {
      "cell_type": "code",
      "source": [
        "from google.colab import files\n",
        "import matplotlib.pyplot as plt\n",
        "%matplotlib inline\n"
      ],
      "metadata": {
        "id": "Or67Fh1cxmZR"
      },
      "execution_count": null,
      "outputs": []
    },
    {
      "cell_type": "code",
      "execution_count": null,
      "metadata": {
        "id": "980vo03h4k-i",
        "colab": {
          "base_uri": "https://localhost:8080/",
          "height": 1000
        },
        "outputId": "9bd11968-1200-4014-e90f-a90a9f4fa74f"
      },
      "outputs": [
        {
          "output_type": "stream",
          "name": "stdout",
          "text": [
            "Epoch: 001, Train: 3592.0000, Val: 1052.0000, Test: 2116.0000, Loss: 3.54980\n",
            "Epoch: 002, Train: 3592.0000, Val: 1052.0000, Test: 2116.0000, Loss: 2.95664\n",
            "Epoch: 003, Train: 3592.0000, Val: 1052.0000, Test: 2116.0000, Loss: 2.52924\n",
            "Epoch: 004, Train: 3592.0000, Val: 1052.0000, Test: 2116.0000, Loss: 2.36822\n",
            "Epoch: 005, Train: 3592.0000, Val: 1052.0000, Test: 2116.0000, Loss: 2.16982\n",
            "Epoch: 006, Train: 3592.0000, Val: 1052.0000, Test: 2116.0000, Loss: 1.87675\n",
            "Epoch: 007, Train: 3592.0000, Val: 1052.0000, Test: 2116.0000, Loss: 1.90964\n",
            "Epoch: 008, Train: 3592.0000, Val: 1052.0000, Test: 2116.0000, Loss: 1.77760\n",
            "Epoch: 009, Train: 3592.0000, Val: 1052.0000, Test: 2116.0000, Loss: 1.57107\n",
            "Epoch: 010, Train: 3592.0000, Val: 1052.0000, Test: 2116.0000, Loss: 1.48776\n",
            "Epoch: 011, Train: 3592.0000, Val: 1052.0000, Test: 2116.0000, Loss: 1.25466\n",
            "Epoch: 012, Train: 3592.0000, Val: 1052.0000, Test: 2116.0000, Loss: 1.32780\n",
            "Epoch: 013, Train: 3592.0000, Val: 1052.0000, Test: 2116.0000, Loss: 1.07494\n",
            "Epoch: 014, Train: 3592.0000, Val: 1052.0000, Test: 2116.0000, Loss: 1.04884\n",
            "Epoch: 015, Train: 3592.0000, Val: 1052.0000, Test: 2116.0000, Loss: 1.03127\n",
            "Epoch: 016, Train: 3592.0000, Val: 1052.0000, Test: 2116.0000, Loss: 0.94359\n",
            "Epoch: 017, Train: 3592.0000, Val: 1052.0000, Test: 2116.0000, Loss: 0.83564\n",
            "Epoch: 018, Train: 3592.0000, Val: 1052.0000, Test: 2116.0000, Loss: 0.82760\n",
            "Epoch: 019, Train: 3592.0000, Val: 1052.0000, Test: 2116.0000, Loss: 0.86458\n",
            "Epoch: 020, Train: 3592.0000, Val: 1052.0000, Test: 2116.0000, Loss: 0.73527\n",
            "Epoch: 021, Train: 3592.0000, Val: 1052.0000, Test: 2116.0000, Loss: 0.66586\n",
            "Epoch: 022, Train: 3592.0000, Val: 1052.0000, Test: 2116.0000, Loss: 0.66084\n",
            "Epoch: 023, Train: 3592.0000, Val: 1052.0000, Test: 2116.0000, Loss: 0.71873\n",
            "Epoch: 024, Train: 3592.0000, Val: 1052.0000, Test: 2116.0000, Loss: 0.63014\n",
            "Epoch: 025, Train: 3592.0000, Val: 1052.0000, Test: 2116.0000, Loss: 0.69303\n",
            "Epoch: 026, Train: 3592.0000, Val: 1052.0000, Test: 2116.0000, Loss: 0.64657\n",
            "Epoch: 027, Train: 3592.0000, Val: 1052.0000, Test: 2116.0000, Loss: 0.63489\n",
            "Epoch: 028, Train: 3592.0000, Val: 1052.0000, Test: 2116.0000, Loss: 0.63187\n",
            "Epoch: 029, Train: 3592.0000, Val: 1052.0000, Test: 2116.0000, Loss: 0.64044\n",
            "Epoch: 030, Train: 3592.0000, Val: 1052.0000, Test: 2116.0000, Loss: 0.62616\n",
            "Epoch: 031, Train: 3592.0000, Val: 1052.0000, Test: 2116.0000, Loss: 0.63013\n",
            "Epoch: 032, Train: 3592.0000, Val: 1052.0000, Test: 2116.0000, Loss: 0.64006\n",
            "Epoch: 033, Train: 3592.0000, Val: 1052.0000, Test: 2116.0000, Loss: 0.61012\n",
            "Epoch: 034, Train: 3592.0000, Val: 1052.0000, Test: 2116.0000, Loss: 0.61802\n",
            "Epoch: 035, Train: 3592.0000, Val: 1052.0000, Test: 2116.0000, Loss: 0.58298\n",
            "Epoch: 036, Train: 3592.0000, Val: 1052.0000, Test: 2116.0000, Loss: 0.58588\n",
            "Epoch: 037, Train: 3592.0000, Val: 1052.0000, Test: 2116.0000, Loss: 0.58933\n",
            "Epoch: 038, Train: 3592.0000, Val: 1052.0000, Test: 2116.0000, Loss: 0.59590\n",
            "Epoch: 039, Train: 3592.0000, Val: 1052.0000, Test: 2116.0000, Loss: 0.58946\n",
            "Epoch: 040, Train: 3592.0000, Val: 1052.0000, Test: 2116.0000, Loss: 0.58415\n",
            "Epoch: 041, Train: 3592.0000, Val: 1052.0000, Test: 2116.0000, Loss: 0.58364\n",
            "Epoch: 042, Train: 3592.0000, Val: 1052.0000, Test: 2116.0000, Loss: 0.58507\n",
            "Epoch: 043, Train: 3592.0000, Val: 1052.0000, Test: 2116.0000, Loss: 0.59505\n",
            "Epoch: 044, Train: 3592.0000, Val: 1052.0000, Test: 2116.0000, Loss: 0.56971\n",
            "Epoch: 045, Train: 3592.0000, Val: 1052.0000, Test: 2116.0000, Loss: 0.58060\n",
            "Epoch: 046, Train: 3592.0000, Val: 1052.0000, Test: 2116.0000, Loss: 0.57071\n",
            "Epoch: 047, Train: 3592.0000, Val: 1052.0000, Test: 2116.0000, Loss: 0.57625\n",
            "Epoch: 048, Train: 3592.0000, Val: 1052.0000, Test: 2116.0000, Loss: 0.58472\n",
            "Epoch: 049, Train: 3592.0000, Val: 1052.0000, Test: 2116.0000, Loss: 0.57542\n",
            "Epoch: 050, Train: 3592.0000, Val: 1052.0000, Test: 2116.0000, Loss: 0.56653\n",
            "Epoch: 051, Train: 3592.0000, Val: 1052.0000, Test: 2116.0000, Loss: 0.56026\n",
            "Epoch: 052, Train: 3592.0000, Val: 1052.0000, Test: 2116.0000, Loss: 0.55422\n",
            "Epoch: 053, Train: 3592.0000, Val: 1052.0000, Test: 2116.0000, Loss: 0.56057\n",
            "Epoch: 054, Train: 3592.0000, Val: 1052.0000, Test: 2116.0000, Loss: 0.56742\n",
            "Epoch: 055, Train: 3592.0000, Val: 1052.0000, Test: 2116.0000, Loss: 0.55322\n",
            "Epoch: 056, Train: 3592.0000, Val: 1052.0000, Test: 2116.0000, Loss: 0.54559\n",
            "Epoch: 057, Train: 3592.0000, Val: 1052.0000, Test: 2116.0000, Loss: 0.54670\n",
            "Epoch: 058, Train: 3592.0000, Val: 1052.0000, Test: 2116.0000, Loss: 0.53374\n",
            "Epoch: 059, Train: 3592.0000, Val: 1052.0000, Test: 2116.0000, Loss: 0.54617\n",
            "Epoch: 060, Train: 3592.0000, Val: 1052.0000, Test: 2116.0000, Loss: 0.55245\n",
            "Epoch: 061, Train: 3592.0000, Val: 1052.0000, Test: 2116.0000, Loss: 0.54544\n",
            "Epoch: 062, Train: 3592.0000, Val: 1052.0000, Test: 2116.0000, Loss: 0.52545\n",
            "Epoch: 063, Train: 3592.0000, Val: 1052.0000, Test: 2116.0000, Loss: 0.52502\n",
            "Epoch: 064, Train: 3592.0000, Val: 1052.0000, Test: 2116.0000, Loss: 0.53369\n",
            "Epoch: 065, Train: 3592.0000, Val: 1052.0000, Test: 2116.0000, Loss: 0.53548\n",
            "Epoch: 066, Train: 3592.0000, Val: 1052.0000, Test: 2116.0000, Loss: 0.51876\n",
            "Epoch: 067, Train: 3592.0000, Val: 1052.0000, Test: 2116.0000, Loss: 0.52312\n",
            "Epoch: 068, Train: 3592.0000, Val: 1052.0000, Test: 2116.0000, Loss: 0.53661\n",
            "Epoch: 069, Train: 3592.0000, Val: 1052.0000, Test: 2116.0000, Loss: 0.52121\n",
            "Epoch: 070, Train: 3592.0000, Val: 1052.0000, Test: 2116.0000, Loss: 0.52033\n",
            "Epoch: 071, Train: 3592.0000, Val: 1052.0000, Test: 2116.0000, Loss: 0.52692\n",
            "Epoch: 072, Train: 3592.0000, Val: 1052.0000, Test: 2116.0000, Loss: 0.52238\n",
            "Epoch: 073, Train: 3592.0000, Val: 1052.0000, Test: 2116.0000, Loss: 0.51722\n",
            "Epoch: 074, Train: 3592.0000, Val: 1052.0000, Test: 2116.0000, Loss: 0.51309\n",
            "Epoch: 075, Train: 3592.0000, Val: 1052.0000, Test: 2116.0000, Loss: 0.50527\n",
            "Epoch: 076, Train: 3592.0000, Val: 1052.0000, Test: 2116.0000, Loss: 0.51847\n",
            "Epoch: 077, Train: 3592.0000, Val: 1052.0000, Test: 2116.0000, Loss: 0.53574\n",
            "Epoch: 078, Train: 3592.0000, Val: 1052.0000, Test: 2116.0000, Loss: 0.51720\n",
            "Epoch: 079, Train: 3592.0000, Val: 1052.0000, Test: 2116.0000, Loss: 0.52266\n",
            "Epoch: 080, Train: 3592.0000, Val: 1052.0000, Test: 2116.0000, Loss: 0.51643\n",
            "Epoch: 081, Train: 3592.0000, Val: 1052.0000, Test: 2116.0000, Loss: 0.51356\n",
            "Epoch: 082, Train: 3592.0000, Val: 1052.0000, Test: 2116.0000, Loss: 0.51213\n",
            "Epoch: 083, Train: 3592.0000, Val: 1052.0000, Test: 2116.0000, Loss: 0.50183\n",
            "Epoch: 084, Train: 3592.0000, Val: 1052.0000, Test: 2116.0000, Loss: 0.51745\n",
            "Epoch: 085, Train: 3592.0000, Val: 1052.0000, Test: 2116.0000, Loss: 0.50276\n",
            "Epoch: 086, Train: 3592.0000, Val: 1052.0000, Test: 2116.0000, Loss: 0.50515\n",
            "Epoch: 087, Train: 3592.0000, Val: 1052.0000, Test: 2116.0000, Loss: 0.50564\n",
            "Epoch: 088, Train: 3592.0000, Val: 1052.0000, Test: 2116.0000, Loss: 0.51565\n",
            "Epoch: 089, Train: 3592.0000, Val: 1052.0000, Test: 2116.0000, Loss: 0.50333\n",
            "Epoch: 090, Train: 3592.0000, Val: 1052.0000, Test: 2116.0000, Loss: 0.49837\n",
            "Epoch: 091, Train: 3592.0000, Val: 1052.0000, Test: 2116.0000, Loss: 0.51748\n",
            "Epoch: 092, Train: 3592.0000, Val: 1052.0000, Test: 2116.0000, Loss: 0.49314\n",
            "Epoch: 093, Train: 3592.0000, Val: 1052.0000, Test: 2116.0000, Loss: 0.49487\n",
            "Epoch: 094, Train: 3592.0000, Val: 1052.0000, Test: 2116.0000, Loss: 0.49998\n",
            "Epoch: 095, Train: 3592.0000, Val: 1052.0000, Test: 2116.0000, Loss: 0.51346\n",
            "Epoch: 096, Train: 3592.0000, Val: 1052.0000, Test: 2116.0000, Loss: 0.51100\n",
            "Epoch: 097, Train: 3592.0000, Val: 1052.0000, Test: 2116.0000, Loss: 0.49296\n",
            "Epoch: 098, Train: 3592.0000, Val: 1052.0000, Test: 2116.0000, Loss: 0.50076\n",
            "Epoch: 099, Train: 3592.0000, Val: 1052.0000, Test: 2116.0000, Loss: 0.50440\n",
            "Train: 3592.0000, Val: 1052.0000, Test: 2116.0000\n"
          ]
        },
        {
          "output_type": "display_data",
          "data": {
            "text/plain": [
              "<IPython.core.display.Javascript object>"
            ],
            "application/javascript": [
              "\n",
              "    async function download(id, filename, size) {\n",
              "      if (!google.colab.kernel.accessAllowed) {\n",
              "        return;\n",
              "      }\n",
              "      const div = document.createElement('div');\n",
              "      const label = document.createElement('label');\n",
              "      label.textContent = `Downloading \"${filename}\": `;\n",
              "      div.appendChild(label);\n",
              "      const progress = document.createElement('progress');\n",
              "      progress.max = size;\n",
              "      div.appendChild(progress);\n",
              "      document.body.appendChild(div);\n",
              "\n",
              "      const buffers = [];\n",
              "      let downloaded = 0;\n",
              "\n",
              "      const channel = await google.colab.kernel.comms.open(id);\n",
              "      // Send a message to notify the kernel that we're ready.\n",
              "      channel.send({})\n",
              "\n",
              "      for await (const message of channel.messages) {\n",
              "        // Send a message to notify the kernel that we're ready.\n",
              "        channel.send({})\n",
              "        if (message.buffers) {\n",
              "          for (const buffer of message.buffers) {\n",
              "            buffers.push(buffer);\n",
              "            downloaded += buffer.byteLength;\n",
              "            progress.value = downloaded;\n",
              "          }\n",
              "        }\n",
              "      }\n",
              "      const blob = new Blob(buffers, {type: 'application/binary'});\n",
              "      const a = document.createElement('a');\n",
              "      a.href = window.URL.createObjectURL(blob);\n",
              "      a.download = filename;\n",
              "      div.appendChild(a);\n",
              "      a.click();\n",
              "      div.remove();\n",
              "    }\n",
              "  "
            ]
          },
          "metadata": {}
        },
        {
          "output_type": "display_data",
          "data": {
            "text/plain": [
              "<IPython.core.display.Javascript object>"
            ],
            "application/javascript": [
              "download(\"download_9d5818dc-c380-4225-8d67-5e181c144071\", \"Cora-sp.pdf\", 13647)"
            ]
          },
          "metadata": {}
        },
        {
          "output_type": "display_data",
          "data": {
            "text/plain": [
              "<IPython.core.display.Javascript object>"
            ],
            "application/javascript": [
              "\n",
              "    async function download(id, filename, size) {\n",
              "      if (!google.colab.kernel.accessAllowed) {\n",
              "        return;\n",
              "      }\n",
              "      const div = document.createElement('div');\n",
              "      const label = document.createElement('label');\n",
              "      label.textContent = `Downloading \"${filename}\": `;\n",
              "      div.appendChild(label);\n",
              "      const progress = document.createElement('progress');\n",
              "      progress.max = size;\n",
              "      div.appendChild(progress);\n",
              "      document.body.appendChild(div);\n",
              "\n",
              "      const buffers = [];\n",
              "      let downloaded = 0;\n",
              "\n",
              "      const channel = await google.colab.kernel.comms.open(id);\n",
              "      // Send a message to notify the kernel that we're ready.\n",
              "      channel.send({})\n",
              "\n",
              "      for await (const message of channel.messages) {\n",
              "        // Send a message to notify the kernel that we're ready.\n",
              "        channel.send({})\n",
              "        if (message.buffers) {\n",
              "          for (const buffer of message.buffers) {\n",
              "            buffers.push(buffer);\n",
              "            downloaded += buffer.byteLength;\n",
              "            progress.value = downloaded;\n",
              "          }\n",
              "        }\n",
              "      }\n",
              "      const blob = new Blob(buffers, {type: 'application/binary'});\n",
              "      const a = document.createElement('a');\n",
              "      a.href = window.URL.createObjectURL(blob);\n",
              "      a.download = filename;\n",
              "      div.appendChild(a);\n",
              "      a.click();\n",
              "      div.remove();\n",
              "    }\n",
              "  "
            ]
          },
          "metadata": {}
        },
        {
          "output_type": "display_data",
          "data": {
            "text/plain": [
              "<IPython.core.display.Javascript object>"
            ],
            "application/javascript": [
              "download(\"download_6854f26c-08c9-484f-9808-9a5e669da268\", \"Cora-sp-loss.pdf\", 13013)"
            ]
          },
          "metadata": {}
        },
        {
          "output_type": "stream",
          "name": "stdout",
          "text": [
            "Epoch: 001, Train: 3096.0000, Val: 908.0000, Test: 1824.0000, Loss: 3.42123\n",
            "Epoch: 002, Train: 3096.0000, Val: 908.0000, Test: 1824.0000, Loss: 3.20825\n",
            "Epoch: 003, Train: 3096.0000, Val: 908.0000, Test: 1824.0000, Loss: 2.94164\n",
            "Epoch: 004, Train: 3096.0000, Val: 908.0000, Test: 1824.0000, Loss: 2.70131\n",
            "Epoch: 005, Train: 3096.0000, Val: 908.0000, Test: 1824.0000, Loss: 2.30530\n",
            "Epoch: 006, Train: 3096.0000, Val: 908.0000, Test: 1824.0000, Loss: 1.97872\n",
            "Epoch: 007, Train: 3096.0000, Val: 908.0000, Test: 1824.0000, Loss: 1.89468\n",
            "Epoch: 008, Train: 3096.0000, Val: 908.0000, Test: 1824.0000, Loss: 1.85787\n",
            "Epoch: 009, Train: 3096.0000, Val: 908.0000, Test: 1824.0000, Loss: 1.64589\n",
            "Epoch: 010, Train: 3096.0000, Val: 908.0000, Test: 1824.0000, Loss: 1.39737\n",
            "Epoch: 011, Train: 3096.0000, Val: 908.0000, Test: 1824.0000, Loss: 1.54033\n",
            "Epoch: 012, Train: 3096.0000, Val: 908.0000, Test: 1824.0000, Loss: 1.21753\n",
            "Epoch: 013, Train: 3096.0000, Val: 908.0000, Test: 1824.0000, Loss: 1.17464\n",
            "Epoch: 014, Train: 3096.0000, Val: 908.0000, Test: 1824.0000, Loss: 1.09585\n",
            "Epoch: 015, Train: 3096.0000, Val: 908.0000, Test: 1824.0000, Loss: 0.96899\n",
            "Epoch: 016, Train: 3096.0000, Val: 908.0000, Test: 1824.0000, Loss: 1.03241\n",
            "Epoch: 017, Train: 3096.0000, Val: 908.0000, Test: 1824.0000, Loss: 0.83574\n",
            "Epoch: 018, Train: 3096.0000, Val: 908.0000, Test: 1824.0000, Loss: 0.79141\n",
            "Epoch: 019, Train: 3096.0000, Val: 908.0000, Test: 1824.0000, Loss: 0.78845\n",
            "Epoch: 020, Train: 3096.0000, Val: 908.0000, Test: 1824.0000, Loss: 0.68706\n",
            "Epoch: 021, Train: 3096.0000, Val: 908.0000, Test: 1824.0000, Loss: 0.65337\n",
            "Epoch: 022, Train: 3096.0000, Val: 908.0000, Test: 1824.0000, Loss: 0.69574\n",
            "Epoch: 023, Train: 3096.0000, Val: 908.0000, Test: 1824.0000, Loss: 0.60742\n",
            "Epoch: 024, Train: 3096.0000, Val: 908.0000, Test: 1824.0000, Loss: 0.64142\n",
            "Epoch: 025, Train: 3096.0000, Val: 908.0000, Test: 1824.0000, Loss: 0.60213\n",
            "Epoch: 026, Train: 3096.0000, Val: 908.0000, Test: 1824.0000, Loss: 0.59353\n",
            "Epoch: 027, Train: 3096.0000, Val: 908.0000, Test: 1824.0000, Loss: 0.59049\n",
            "Epoch: 028, Train: 3096.0000, Val: 908.0000, Test: 1824.0000, Loss: 0.58856\n",
            "Epoch: 029, Train: 3096.0000, Val: 908.0000, Test: 1824.0000, Loss: 0.57945\n",
            "Epoch: 030, Train: 3096.0000, Val: 908.0000, Test: 1824.0000, Loss: 0.57057\n",
            "Epoch: 031, Train: 3096.0000, Val: 908.0000, Test: 1824.0000, Loss: 0.57337\n",
            "Epoch: 032, Train: 3096.0000, Val: 908.0000, Test: 1824.0000, Loss: 0.58848\n",
            "Epoch: 033, Train: 3096.0000, Val: 908.0000, Test: 1824.0000, Loss: 0.57459\n",
            "Epoch: 034, Train: 3096.0000, Val: 908.0000, Test: 1824.0000, Loss: 0.56217\n",
            "Epoch: 035, Train: 3096.0000, Val: 908.0000, Test: 1824.0000, Loss: 0.57275\n",
            "Epoch: 036, Train: 3096.0000, Val: 908.0000, Test: 1824.0000, Loss: 0.55825\n",
            "Epoch: 037, Train: 3096.0000, Val: 908.0000, Test: 1824.0000, Loss: 0.57010\n",
            "Epoch: 038, Train: 3096.0000, Val: 908.0000, Test: 1824.0000, Loss: 0.56175\n",
            "Epoch: 039, Train: 3096.0000, Val: 908.0000, Test: 1824.0000, Loss: 0.55106\n",
            "Epoch: 040, Train: 3096.0000, Val: 908.0000, Test: 1824.0000, Loss: 0.56073\n",
            "Epoch: 041, Train: 3096.0000, Val: 908.0000, Test: 1824.0000, Loss: 0.54933\n",
            "Epoch: 042, Train: 3096.0000, Val: 908.0000, Test: 1824.0000, Loss: 0.54573\n",
            "Epoch: 043, Train: 3096.0000, Val: 908.0000, Test: 1824.0000, Loss: 0.55682\n",
            "Epoch: 044, Train: 3096.0000, Val: 908.0000, Test: 1824.0000, Loss: 0.55310\n",
            "Epoch: 045, Train: 3096.0000, Val: 908.0000, Test: 1824.0000, Loss: 0.55243\n",
            "Epoch: 046, Train: 3096.0000, Val: 908.0000, Test: 1824.0000, Loss: 0.53972\n",
            "Epoch: 047, Train: 3096.0000, Val: 908.0000, Test: 1824.0000, Loss: 0.53184\n",
            "Epoch: 048, Train: 3096.0000, Val: 908.0000, Test: 1824.0000, Loss: 0.53314\n",
            "Epoch: 049, Train: 3096.0000, Val: 908.0000, Test: 1824.0000, Loss: 0.53774\n",
            "Epoch: 050, Train: 3096.0000, Val: 908.0000, Test: 1824.0000, Loss: 0.53039\n",
            "Epoch: 051, Train: 3096.0000, Val: 908.0000, Test: 1824.0000, Loss: 0.53179\n",
            "Epoch: 052, Train: 3096.0000, Val: 908.0000, Test: 1824.0000, Loss: 0.53009\n",
            "Epoch: 053, Train: 3096.0000, Val: 908.0000, Test: 1824.0000, Loss: 0.51229\n",
            "Epoch: 054, Train: 3096.0000, Val: 908.0000, Test: 1824.0000, Loss: 0.52077\n",
            "Epoch: 055, Train: 3096.0000, Val: 908.0000, Test: 1824.0000, Loss: 0.52243\n",
            "Epoch: 056, Train: 3096.0000, Val: 908.0000, Test: 1824.0000, Loss: 0.51070\n",
            "Epoch: 057, Train: 3096.0000, Val: 908.0000, Test: 1824.0000, Loss: 0.50292\n",
            "Epoch: 058, Train: 3096.0000, Val: 908.0000, Test: 1824.0000, Loss: 0.51141\n",
            "Epoch: 059, Train: 3096.0000, Val: 908.0000, Test: 1824.0000, Loss: 0.51858\n",
            "Epoch: 060, Train: 3096.0000, Val: 908.0000, Test: 1824.0000, Loss: 0.52028\n",
            "Epoch: 061, Train: 3096.0000, Val: 908.0000, Test: 1824.0000, Loss: 0.51457\n",
            "Epoch: 062, Train: 3096.0000, Val: 908.0000, Test: 1824.0000, Loss: 0.49099\n",
            "Epoch: 063, Train: 3096.0000, Val: 908.0000, Test: 1824.0000, Loss: 0.50434\n",
            "Epoch: 064, Train: 3096.0000, Val: 908.0000, Test: 1824.0000, Loss: 0.49544\n",
            "Epoch: 065, Train: 3096.0000, Val: 908.0000, Test: 1824.0000, Loss: 0.51232\n",
            "Epoch: 066, Train: 3096.0000, Val: 908.0000, Test: 1824.0000, Loss: 0.50551\n",
            "Epoch: 067, Train: 3096.0000, Val: 908.0000, Test: 1824.0000, Loss: 0.50609\n",
            "Epoch: 068, Train: 3096.0000, Val: 908.0000, Test: 1824.0000, Loss: 0.49717\n",
            "Epoch: 069, Train: 3096.0000, Val: 908.0000, Test: 1824.0000, Loss: 0.52062\n",
            "Epoch: 070, Train: 3096.0000, Val: 908.0000, Test: 1824.0000, Loss: 0.50148\n",
            "Epoch: 071, Train: 3096.0000, Val: 908.0000, Test: 1824.0000, Loss: 0.49466\n",
            "Epoch: 072, Train: 3096.0000, Val: 908.0000, Test: 1824.0000, Loss: 0.47902\n",
            "Epoch: 073, Train: 3096.0000, Val: 908.0000, Test: 1824.0000, Loss: 0.49848\n",
            "Epoch: 074, Train: 3096.0000, Val: 908.0000, Test: 1824.0000, Loss: 0.49357\n",
            "Epoch: 075, Train: 3096.0000, Val: 908.0000, Test: 1824.0000, Loss: 0.48160\n",
            "Epoch: 076, Train: 3096.0000, Val: 908.0000, Test: 1824.0000, Loss: 0.50145\n",
            "Epoch: 077, Train: 3096.0000, Val: 908.0000, Test: 1824.0000, Loss: 0.48951\n",
            "Epoch: 078, Train: 3096.0000, Val: 908.0000, Test: 1824.0000, Loss: 0.49492\n",
            "Epoch: 079, Train: 3096.0000, Val: 908.0000, Test: 1824.0000, Loss: 0.47110\n",
            "Epoch: 080, Train: 3096.0000, Val: 908.0000, Test: 1824.0000, Loss: 0.49731\n",
            "Epoch: 081, Train: 3096.0000, Val: 908.0000, Test: 1824.0000, Loss: 0.49412\n",
            "Epoch: 082, Train: 3096.0000, Val: 908.0000, Test: 1824.0000, Loss: 0.49710\n",
            "Epoch: 083, Train: 3096.0000, Val: 908.0000, Test: 1824.0000, Loss: 0.48451\n",
            "Epoch: 084, Train: 3096.0000, Val: 908.0000, Test: 1824.0000, Loss: 0.48254\n",
            "Epoch: 085, Train: 3096.0000, Val: 908.0000, Test: 1824.0000, Loss: 0.48967\n",
            "Epoch: 086, Train: 3096.0000, Val: 908.0000, Test: 1824.0000, Loss: 0.49033\n",
            "Epoch: 087, Train: 3096.0000, Val: 908.0000, Test: 1824.0000, Loss: 0.47945\n",
            "Epoch: 088, Train: 3096.0000, Val: 908.0000, Test: 1824.0000, Loss: 0.49083\n",
            "Epoch: 089, Train: 3096.0000, Val: 908.0000, Test: 1824.0000, Loss: 0.47721\n",
            "Epoch: 090, Train: 3096.0000, Val: 908.0000, Test: 1824.0000, Loss: 0.48261\n",
            "Epoch: 091, Train: 3096.0000, Val: 908.0000, Test: 1824.0000, Loss: 0.46546\n",
            "Epoch: 092, Train: 3096.0000, Val: 908.0000, Test: 1824.0000, Loss: 0.47271\n",
            "Epoch: 093, Train: 3096.0000, Val: 908.0000, Test: 1824.0000, Loss: 0.47111\n",
            "Epoch: 094, Train: 3096.0000, Val: 908.0000, Test: 1824.0000, Loss: 0.47655\n",
            "Epoch: 095, Train: 3096.0000, Val: 908.0000, Test: 1824.0000, Loss: 0.48494\n",
            "Epoch: 096, Train: 3096.0000, Val: 908.0000, Test: 1824.0000, Loss: 0.48349\n",
            "Epoch: 097, Train: 3096.0000, Val: 908.0000, Test: 1824.0000, Loss: 0.47968\n",
            "Epoch: 098, Train: 3096.0000, Val: 908.0000, Test: 1824.0000, Loss: 0.46289\n",
            "Epoch: 099, Train: 3096.0000, Val: 908.0000, Test: 1824.0000, Loss: 0.47939\n",
            "Train: 3096.0000, Val: 908.0000, Test: 1824.0000\n"
          ]
        },
        {
          "output_type": "display_data",
          "data": {
            "text/plain": [
              "<IPython.core.display.Javascript object>"
            ],
            "application/javascript": [
              "\n",
              "    async function download(id, filename, size) {\n",
              "      if (!google.colab.kernel.accessAllowed) {\n",
              "        return;\n",
              "      }\n",
              "      const div = document.createElement('div');\n",
              "      const label = document.createElement('label');\n",
              "      label.textContent = `Downloading \"${filename}\": `;\n",
              "      div.appendChild(label);\n",
              "      const progress = document.createElement('progress');\n",
              "      progress.max = size;\n",
              "      div.appendChild(progress);\n",
              "      document.body.appendChild(div);\n",
              "\n",
              "      const buffers = [];\n",
              "      let downloaded = 0;\n",
              "\n",
              "      const channel = await google.colab.kernel.comms.open(id);\n",
              "      // Send a message to notify the kernel that we're ready.\n",
              "      channel.send({})\n",
              "\n",
              "      for await (const message of channel.messages) {\n",
              "        // Send a message to notify the kernel that we're ready.\n",
              "        channel.send({})\n",
              "        if (message.buffers) {\n",
              "          for (const buffer of message.buffers) {\n",
              "            buffers.push(buffer);\n",
              "            downloaded += buffer.byteLength;\n",
              "            progress.value = downloaded;\n",
              "          }\n",
              "        }\n",
              "      }\n",
              "      const blob = new Blob(buffers, {type: 'application/binary'});\n",
              "      const a = document.createElement('a');\n",
              "      a.href = window.URL.createObjectURL(blob);\n",
              "      a.download = filename;\n",
              "      div.appendChild(a);\n",
              "      a.click();\n",
              "      div.remove();\n",
              "    }\n",
              "  "
            ]
          },
          "metadata": {}
        },
        {
          "output_type": "display_data",
          "data": {
            "text/plain": [
              "<IPython.core.display.Javascript object>"
            ],
            "application/javascript": [
              "download(\"download_91c45675-e637-4846-ba73-3617aab202a5\", \"CiteSeer-sp.pdf\", 13620)"
            ]
          },
          "metadata": {}
        },
        {
          "output_type": "display_data",
          "data": {
            "text/plain": [
              "<IPython.core.display.Javascript object>"
            ],
            "application/javascript": [
              "\n",
              "    async function download(id, filename, size) {\n",
              "      if (!google.colab.kernel.accessAllowed) {\n",
              "        return;\n",
              "      }\n",
              "      const div = document.createElement('div');\n",
              "      const label = document.createElement('label');\n",
              "      label.textContent = `Downloading \"${filename}\": `;\n",
              "      div.appendChild(label);\n",
              "      const progress = document.createElement('progress');\n",
              "      progress.max = size;\n",
              "      div.appendChild(progress);\n",
              "      document.body.appendChild(div);\n",
              "\n",
              "      const buffers = [];\n",
              "      let downloaded = 0;\n",
              "\n",
              "      const channel = await google.colab.kernel.comms.open(id);\n",
              "      // Send a message to notify the kernel that we're ready.\n",
              "      channel.send({})\n",
              "\n",
              "      for await (const message of channel.messages) {\n",
              "        // Send a message to notify the kernel that we're ready.\n",
              "        channel.send({})\n",
              "        if (message.buffers) {\n",
              "          for (const buffer of message.buffers) {\n",
              "            buffers.push(buffer);\n",
              "            downloaded += buffer.byteLength;\n",
              "            progress.value = downloaded;\n",
              "          }\n",
              "        }\n",
              "      }\n",
              "      const blob = new Blob(buffers, {type: 'application/binary'});\n",
              "      const a = document.createElement('a');\n",
              "      a.href = window.URL.createObjectURL(blob);\n",
              "      a.download = filename;\n",
              "      div.appendChild(a);\n",
              "      a.click();\n",
              "      div.remove();\n",
              "    }\n",
              "  "
            ]
          },
          "metadata": {}
        },
        {
          "output_type": "display_data",
          "data": {
            "text/plain": [
              "<IPython.core.display.Javascript object>"
            ],
            "application/javascript": [
              "download(\"download_94d8e5bc-3dbf-4173-8431-6556698a8044\", \"CiteSeer-sp-loss.pdf\", 13601)"
            ]
          },
          "metadata": {}
        },
        {
          "output_type": "stream",
          "name": "stdout",
          "text": [
            "Epoch: 001, Train: 30140.0000, Val: 8864.0000, Test: 17732.0000, Loss: 3.04348\n",
            "Epoch: 002, Train: 30140.0000, Val: 8864.0000, Test: 17732.0000, Loss: 2.60626\n",
            "Epoch: 003, Train: 30140.0000, Val: 8864.0000, Test: 17732.0000, Loss: 2.40896\n",
            "Epoch: 004, Train: 30140.0000, Val: 8864.0000, Test: 17732.0000, Loss: 2.24265\n",
            "Epoch: 005, Train: 30140.0000, Val: 8864.0000, Test: 17732.0000, Loss: 2.04877\n",
            "Epoch: 006, Train: 30140.0000, Val: 8864.0000, Test: 17732.0000, Loss: 1.90242\n",
            "Epoch: 007, Train: 30140.0000, Val: 8864.0000, Test: 17732.0000, Loss: 1.68818\n",
            "Epoch: 008, Train: 30140.0000, Val: 8864.0000, Test: 17732.0000, Loss: 1.57452\n",
            "Epoch: 009, Train: 30140.0000, Val: 8864.0000, Test: 17732.0000, Loss: 1.40006\n",
            "Epoch: 010, Train: 30140.0000, Val: 8864.0000, Test: 17732.0000, Loss: 1.21328\n",
            "Epoch: 011, Train: 30140.0000, Val: 8864.0000, Test: 17732.0000, Loss: 1.14362\n",
            "Epoch: 012, Train: 30140.0000, Val: 8864.0000, Test: 17732.0000, Loss: 1.01261\n",
            "Epoch: 013, Train: 30140.0000, Val: 8864.0000, Test: 17732.0000, Loss: 0.99471\n",
            "Epoch: 014, Train: 30140.0000, Val: 8864.0000, Test: 17732.0000, Loss: 0.88481\n",
            "Epoch: 015, Train: 30140.0000, Val: 8864.0000, Test: 17732.0000, Loss: 0.90208\n",
            "Epoch: 016, Train: 30140.0000, Val: 8864.0000, Test: 17732.0000, Loss: 0.80755\n",
            "Epoch: 017, Train: 30140.0000, Val: 8864.0000, Test: 17732.0000, Loss: 0.79284\n",
            "Epoch: 018, Train: 30140.0000, Val: 8864.0000, Test: 17732.0000, Loss: 0.79623\n",
            "Epoch: 019, Train: 30140.0000, Val: 8864.0000, Test: 17732.0000, Loss: 0.73584\n",
            "Epoch: 020, Train: 30140.0000, Val: 8864.0000, Test: 17732.0000, Loss: 0.84676\n",
            "Epoch: 021, Train: 30140.0000, Val: 8864.0000, Test: 17732.0000, Loss: 0.68221\n",
            "Epoch: 022, Train: 30140.0000, Val: 8864.0000, Test: 17732.0000, Loss: 0.66910\n",
            "Epoch: 023, Train: 30140.0000, Val: 8864.0000, Test: 17732.0000, Loss: 0.67686\n",
            "Epoch: 024, Train: 30140.0000, Val: 8864.0000, Test: 17732.0000, Loss: 0.67955\n",
            "Epoch: 025, Train: 30140.0000, Val: 8864.0000, Test: 17732.0000, Loss: 0.64237\n",
            "Epoch: 026, Train: 30140.0000, Val: 8864.0000, Test: 17732.0000, Loss: 0.63224\n",
            "Epoch: 027, Train: 30140.0000, Val: 8864.0000, Test: 17732.0000, Loss: 0.62725\n",
            "Epoch: 028, Train: 30140.0000, Val: 8864.0000, Test: 17732.0000, Loss: 0.61856\n",
            "Epoch: 029, Train: 30140.0000, Val: 8864.0000, Test: 17732.0000, Loss: 0.61158\n",
            "Epoch: 030, Train: 30140.0000, Val: 8864.0000, Test: 17732.0000, Loss: 0.60732\n",
            "Epoch: 031, Train: 30140.0000, Val: 8864.0000, Test: 17732.0000, Loss: 0.59259\n",
            "Epoch: 032, Train: 30140.0000, Val: 8864.0000, Test: 17732.0000, Loss: 0.59334\n",
            "Epoch: 033, Train: 30140.0000, Val: 8864.0000, Test: 17732.0000, Loss: 0.57895\n",
            "Epoch: 034, Train: 30140.0000, Val: 8864.0000, Test: 17732.0000, Loss: 0.58661\n",
            "Epoch: 035, Train: 30140.0000, Val: 8864.0000, Test: 17732.0000, Loss: 0.58597\n",
            "Epoch: 036, Train: 30140.0000, Val: 8864.0000, Test: 17732.0000, Loss: 0.57528\n",
            "Epoch: 037, Train: 30140.0000, Val: 8864.0000, Test: 17732.0000, Loss: 0.57476\n",
            "Epoch: 038, Train: 30140.0000, Val: 8864.0000, Test: 17732.0000, Loss: 0.56903\n",
            "Epoch: 039, Train: 30140.0000, Val: 8864.0000, Test: 17732.0000, Loss: 0.57954\n",
            "Epoch: 040, Train: 30140.0000, Val: 8864.0000, Test: 17732.0000, Loss: 0.56728\n",
            "Epoch: 041, Train: 30140.0000, Val: 8864.0000, Test: 17732.0000, Loss: 0.56083\n",
            "Epoch: 042, Train: 30140.0000, Val: 8864.0000, Test: 17732.0000, Loss: 0.55842\n",
            "Epoch: 043, Train: 30140.0000, Val: 8864.0000, Test: 17732.0000, Loss: 0.54772\n",
            "Epoch: 044, Train: 30140.0000, Val: 8864.0000, Test: 17732.0000, Loss: 0.55383\n",
            "Epoch: 045, Train: 30140.0000, Val: 8864.0000, Test: 17732.0000, Loss: 0.55512\n",
            "Epoch: 046, Train: 30140.0000, Val: 8864.0000, Test: 17732.0000, Loss: 0.54153\n",
            "Epoch: 047, Train: 30140.0000, Val: 8864.0000, Test: 17732.0000, Loss: 0.54149\n",
            "Epoch: 048, Train: 30140.0000, Val: 8864.0000, Test: 17732.0000, Loss: 0.53685\n",
            "Epoch: 049, Train: 30140.0000, Val: 8864.0000, Test: 17732.0000, Loss: 0.54398\n",
            "Epoch: 050, Train: 30140.0000, Val: 8864.0000, Test: 17732.0000, Loss: 0.55447\n",
            "Epoch: 051, Train: 30140.0000, Val: 8864.0000, Test: 17732.0000, Loss: 0.54628\n",
            "Epoch: 052, Train: 30140.0000, Val: 8864.0000, Test: 17732.0000, Loss: 0.54496\n",
            "Epoch: 053, Train: 30140.0000, Val: 8864.0000, Test: 17732.0000, Loss: 0.53660\n",
            "Epoch: 054, Train: 30140.0000, Val: 8864.0000, Test: 17732.0000, Loss: 0.53500\n",
            "Epoch: 055, Train: 30140.0000, Val: 8864.0000, Test: 17732.0000, Loss: 0.53102\n",
            "Epoch: 056, Train: 30140.0000, Val: 8864.0000, Test: 17732.0000, Loss: 0.53668\n",
            "Epoch: 057, Train: 30140.0000, Val: 8864.0000, Test: 17732.0000, Loss: 0.53833\n",
            "Epoch: 058, Train: 30140.0000, Val: 8864.0000, Test: 17732.0000, Loss: 0.52539\n",
            "Epoch: 059, Train: 30140.0000, Val: 8864.0000, Test: 17732.0000, Loss: 0.53067\n",
            "Epoch: 060, Train: 30140.0000, Val: 8864.0000, Test: 17732.0000, Loss: 0.52853\n",
            "Epoch: 061, Train: 30140.0000, Val: 8864.0000, Test: 17732.0000, Loss: 0.52478\n",
            "Epoch: 062, Train: 30140.0000, Val: 8864.0000, Test: 17732.0000, Loss: 0.53359\n",
            "Epoch: 063, Train: 30140.0000, Val: 8864.0000, Test: 17732.0000, Loss: 0.53473\n",
            "Epoch: 064, Train: 30140.0000, Val: 8864.0000, Test: 17732.0000, Loss: 0.52327\n",
            "Epoch: 065, Train: 30140.0000, Val: 8864.0000, Test: 17732.0000, Loss: 0.52776\n",
            "Epoch: 066, Train: 30140.0000, Val: 8864.0000, Test: 17732.0000, Loss: 0.51882\n",
            "Epoch: 067, Train: 30140.0000, Val: 8864.0000, Test: 17732.0000, Loss: 0.51623\n",
            "Epoch: 068, Train: 30140.0000, Val: 8864.0000, Test: 17732.0000, Loss: 0.52023\n",
            "Epoch: 069, Train: 30140.0000, Val: 8864.0000, Test: 17732.0000, Loss: 0.51487\n",
            "Epoch: 070, Train: 30140.0000, Val: 8864.0000, Test: 17732.0000, Loss: 0.51673\n",
            "Epoch: 071, Train: 30140.0000, Val: 8864.0000, Test: 17732.0000, Loss: 0.52412\n",
            "Epoch: 072, Train: 30140.0000, Val: 8864.0000, Test: 17732.0000, Loss: 0.51699\n",
            "Epoch: 073, Train: 30140.0000, Val: 8864.0000, Test: 17732.0000, Loss: 0.51632\n",
            "Epoch: 074, Train: 30140.0000, Val: 8864.0000, Test: 17732.0000, Loss: 0.51892\n",
            "Epoch: 075, Train: 30140.0000, Val: 8864.0000, Test: 17732.0000, Loss: 0.51179\n",
            "Epoch: 076, Train: 30140.0000, Val: 8864.0000, Test: 17732.0000, Loss: 0.51833\n",
            "Epoch: 077, Train: 30140.0000, Val: 8864.0000, Test: 17732.0000, Loss: 0.51550\n",
            "Epoch: 078, Train: 30140.0000, Val: 8864.0000, Test: 17732.0000, Loss: 0.51019\n",
            "Epoch: 079, Train: 30140.0000, Val: 8864.0000, Test: 17732.0000, Loss: 0.51357\n",
            "Epoch: 080, Train: 30140.0000, Val: 8864.0000, Test: 17732.0000, Loss: 0.51429\n",
            "Epoch: 081, Train: 30140.0000, Val: 8864.0000, Test: 17732.0000, Loss: 0.51860\n",
            "Epoch: 082, Train: 30140.0000, Val: 8864.0000, Test: 17732.0000, Loss: 0.51251\n",
            "Epoch: 083, Train: 30140.0000, Val: 8864.0000, Test: 17732.0000, Loss: 0.51038\n",
            "Epoch: 084, Train: 30140.0000, Val: 8864.0000, Test: 17732.0000, Loss: 0.50542\n",
            "Epoch: 085, Train: 30140.0000, Val: 8864.0000, Test: 17732.0000, Loss: 0.51983\n",
            "Epoch: 086, Train: 30140.0000, Val: 8864.0000, Test: 17732.0000, Loss: 0.51202\n",
            "Epoch: 087, Train: 30140.0000, Val: 8864.0000, Test: 17732.0000, Loss: 0.50973\n",
            "Epoch: 088, Train: 30140.0000, Val: 8864.0000, Test: 17732.0000, Loss: 0.50961\n",
            "Epoch: 089, Train: 30140.0000, Val: 8864.0000, Test: 17732.0000, Loss: 0.50756\n",
            "Epoch: 090, Train: 30140.0000, Val: 8864.0000, Test: 17732.0000, Loss: 0.50641\n",
            "Epoch: 091, Train: 30140.0000, Val: 8864.0000, Test: 17732.0000, Loss: 0.50735\n",
            "Epoch: 092, Train: 30140.0000, Val: 8864.0000, Test: 17732.0000, Loss: 0.50743\n",
            "Epoch: 093, Train: 30140.0000, Val: 8864.0000, Test: 17732.0000, Loss: 0.50619\n",
            "Epoch: 094, Train: 30140.0000, Val: 8864.0000, Test: 17732.0000, Loss: 0.50716\n",
            "Epoch: 095, Train: 30140.0000, Val: 8864.0000, Test: 17732.0000, Loss: 0.53198\n",
            "Epoch: 096, Train: 30140.0000, Val: 8864.0000, Test: 17732.0000, Loss: 0.50338\n",
            "Epoch: 097, Train: 30140.0000, Val: 8864.0000, Test: 17732.0000, Loss: 0.50104\n",
            "Epoch: 098, Train: 30140.0000, Val: 8864.0000, Test: 17732.0000, Loss: 0.50123\n",
            "Epoch: 099, Train: 30140.0000, Val: 8864.0000, Test: 17732.0000, Loss: 0.49706\n",
            "Train: 30140.0000, Val: 8864.0000, Test: 17732.0000\n"
          ]
        },
        {
          "output_type": "display_data",
          "data": {
            "text/plain": [
              "<IPython.core.display.Javascript object>"
            ],
            "application/javascript": [
              "\n",
              "    async function download(id, filename, size) {\n",
              "      if (!google.colab.kernel.accessAllowed) {\n",
              "        return;\n",
              "      }\n",
              "      const div = document.createElement('div');\n",
              "      const label = document.createElement('label');\n",
              "      label.textContent = `Downloading \"${filename}\": `;\n",
              "      div.appendChild(label);\n",
              "      const progress = document.createElement('progress');\n",
              "      progress.max = size;\n",
              "      div.appendChild(progress);\n",
              "      document.body.appendChild(div);\n",
              "\n",
              "      const buffers = [];\n",
              "      let downloaded = 0;\n",
              "\n",
              "      const channel = await google.colab.kernel.comms.open(id);\n",
              "      // Send a message to notify the kernel that we're ready.\n",
              "      channel.send({})\n",
              "\n",
              "      for await (const message of channel.messages) {\n",
              "        // Send a message to notify the kernel that we're ready.\n",
              "        channel.send({})\n",
              "        if (message.buffers) {\n",
              "          for (const buffer of message.buffers) {\n",
              "            buffers.push(buffer);\n",
              "            downloaded += buffer.byteLength;\n",
              "            progress.value = downloaded;\n",
              "          }\n",
              "        }\n",
              "      }\n",
              "      const blob = new Blob(buffers, {type: 'application/binary'});\n",
              "      const a = document.createElement('a');\n",
              "      a.href = window.URL.createObjectURL(blob);\n",
              "      a.download = filename;\n",
              "      div.appendChild(a);\n",
              "      a.click();\n",
              "      div.remove();\n",
              "    }\n",
              "  "
            ]
          },
          "metadata": {}
        },
        {
          "output_type": "display_data",
          "data": {
            "text/plain": [
              "<IPython.core.display.Javascript object>"
            ],
            "application/javascript": [
              "download(\"download_531fd10d-ff1a-480f-a8d1-3f0fbddff115\", \"PubMed-sp.pdf\", 14142)"
            ]
          },
          "metadata": {}
        },
        {
          "output_type": "display_data",
          "data": {
            "text/plain": [
              "<IPython.core.display.Javascript object>"
            ],
            "application/javascript": [
              "\n",
              "    async function download(id, filename, size) {\n",
              "      if (!google.colab.kernel.accessAllowed) {\n",
              "        return;\n",
              "      }\n",
              "      const div = document.createElement('div');\n",
              "      const label = document.createElement('label');\n",
              "      label.textContent = `Downloading \"${filename}\": `;\n",
              "      div.appendChild(label);\n",
              "      const progress = document.createElement('progress');\n",
              "      progress.max = size;\n",
              "      div.appendChild(progress);\n",
              "      document.body.appendChild(div);\n",
              "\n",
              "      const buffers = [];\n",
              "      let downloaded = 0;\n",
              "\n",
              "      const channel = await google.colab.kernel.comms.open(id);\n",
              "      // Send a message to notify the kernel that we're ready.\n",
              "      channel.send({})\n",
              "\n",
              "      for await (const message of channel.messages) {\n",
              "        // Send a message to notify the kernel that we're ready.\n",
              "        channel.send({})\n",
              "        if (message.buffers) {\n",
              "          for (const buffer of message.buffers) {\n",
              "            buffers.push(buffer);\n",
              "            downloaded += buffer.byteLength;\n",
              "            progress.value = downloaded;\n",
              "          }\n",
              "        }\n",
              "      }\n",
              "      const blob = new Blob(buffers, {type: 'application/binary'});\n",
              "      const a = document.createElement('a');\n",
              "      a.href = window.URL.createObjectURL(blob);\n",
              "      a.download = filename;\n",
              "      div.appendChild(a);\n",
              "      a.click();\n",
              "      div.remove();\n",
              "    }\n",
              "  "
            ]
          },
          "metadata": {}
        },
        {
          "output_type": "display_data",
          "data": {
            "text/plain": [
              "<IPython.core.display.Javascript object>"
            ],
            "application/javascript": [
              "download(\"download_d2a48301-448a-489d-b7e4-2519ffedc7ad\", \"PubMed-sp-loss.pdf\", 14142)"
            ]
          },
          "metadata": {}
        },
        {
          "output_type": "stream",
          "name": "stdout",
          "text": [
            "Epoch: 001, Train: 116284.0000, Val: 34200.0000, Test: 68404.0000, Loss: 2.43845\n",
            "Epoch: 002, Train: 116284.0000, Val: 34200.0000, Test: 68404.0000, Loss: 2.10825\n",
            "Epoch: 003, Train: 116284.0000, Val: 34200.0000, Test: 68404.0000, Loss: 1.68169\n",
            "Epoch: 004, Train: 116284.0000, Val: 34200.0000, Test: 68404.0000, Loss: 1.49052\n",
            "Epoch: 005, Train: 116284.0000, Val: 34200.0000, Test: 68404.0000, Loss: 1.43209\n",
            "Epoch: 006, Train: 116284.0000, Val: 34200.0000, Test: 68404.0000, Loss: 1.21715\n",
            "Epoch: 007, Train: 116284.0000, Val: 34200.0000, Test: 68404.0000, Loss: 1.09702\n",
            "Epoch: 008, Train: 116284.0000, Val: 34200.0000, Test: 68404.0000, Loss: 0.95100\n",
            "Epoch: 009, Train: 116284.0000, Val: 34200.0000, Test: 68404.0000, Loss: 0.90665\n",
            "Epoch: 010, Train: 116284.0000, Val: 34200.0000, Test: 68404.0000, Loss: 0.88339\n",
            "Epoch: 011, Train: 116284.0000, Val: 34200.0000, Test: 68404.0000, Loss: 0.77351\n",
            "Epoch: 012, Train: 116284.0000, Val: 34200.0000, Test: 68404.0000, Loss: 0.78476\n",
            "Epoch: 013, Train: 116284.0000, Val: 34200.0000, Test: 68404.0000, Loss: 0.74201\n",
            "Epoch: 014, Train: 116284.0000, Val: 34200.0000, Test: 68404.0000, Loss: 0.72412\n",
            "Epoch: 015, Train: 116284.0000, Val: 34200.0000, Test: 68404.0000, Loss: 0.71859\n",
            "Epoch: 016, Train: 116284.0000, Val: 34200.0000, Test: 68404.0000, Loss: 0.70413\n",
            "Epoch: 017, Train: 116284.0000, Val: 34200.0000, Test: 68404.0000, Loss: 0.73318\n",
            "Epoch: 018, Train: 116284.0000, Val: 34200.0000, Test: 68404.0000, Loss: 0.71376\n",
            "Epoch: 019, Train: 116284.0000, Val: 34200.0000, Test: 68404.0000, Loss: 0.68654\n",
            "Epoch: 020, Train: 116284.0000, Val: 34200.0000, Test: 68404.0000, Loss: 0.64190\n",
            "Epoch: 021, Train: 116284.0000, Val: 34200.0000, Test: 68404.0000, Loss: 0.62254\n",
            "Epoch: 022, Train: 116284.0000, Val: 34200.0000, Test: 68404.0000, Loss: 0.62741\n",
            "Epoch: 023, Train: 116284.0000, Val: 34200.0000, Test: 68404.0000, Loss: 0.64009\n",
            "Epoch: 024, Train: 116284.0000, Val: 34200.0000, Test: 68404.0000, Loss: 0.61775\n",
            "Epoch: 025, Train: 116284.0000, Val: 34200.0000, Test: 68404.0000, Loss: 0.59730\n",
            "Epoch: 026, Train: 116284.0000, Val: 34200.0000, Test: 68404.0000, Loss: 0.62186\n",
            "Epoch: 027, Train: 116284.0000, Val: 34200.0000, Test: 68404.0000, Loss: 0.62035\n",
            "Epoch: 028, Train: 116284.0000, Val: 34200.0000, Test: 68404.0000, Loss: 0.59489\n",
            "Epoch: 029, Train: 116284.0000, Val: 34200.0000, Test: 68404.0000, Loss: 0.58932\n",
            "Epoch: 030, Train: 116284.0000, Val: 34200.0000, Test: 68404.0000, Loss: 0.60721\n",
            "Epoch: 031, Train: 116284.0000, Val: 34200.0000, Test: 68404.0000, Loss: 0.56658\n",
            "Epoch: 032, Train: 116284.0000, Val: 34200.0000, Test: 68404.0000, Loss: 0.55986\n",
            "Epoch: 033, Train: 116284.0000, Val: 34200.0000, Test: 68404.0000, Loss: 0.57454\n",
            "Epoch: 034, Train: 116284.0000, Val: 34200.0000, Test: 68404.0000, Loss: 0.59065\n",
            "Epoch: 035, Train: 116284.0000, Val: 34200.0000, Test: 68404.0000, Loss: 0.54321\n",
            "Epoch: 036, Train: 116284.0000, Val: 34200.0000, Test: 68404.0000, Loss: 0.55984\n",
            "Epoch: 037, Train: 116284.0000, Val: 34200.0000, Test: 68404.0000, Loss: 0.56023\n",
            "Epoch: 038, Train: 116284.0000, Val: 34200.0000, Test: 68404.0000, Loss: 0.55478\n",
            "Epoch: 039, Train: 116284.0000, Val: 34200.0000, Test: 68404.0000, Loss: 0.55108\n",
            "Epoch: 040, Train: 116284.0000, Val: 34200.0000, Test: 68404.0000, Loss: 0.53862\n",
            "Epoch: 041, Train: 116284.0000, Val: 34200.0000, Test: 68404.0000, Loss: 0.54634\n",
            "Epoch: 042, Train: 116284.0000, Val: 34200.0000, Test: 68404.0000, Loss: 0.54011\n",
            "Epoch: 043, Train: 116284.0000, Val: 34200.0000, Test: 68404.0000, Loss: 0.54521\n",
            "Epoch: 044, Train: 116284.0000, Val: 34200.0000, Test: 68404.0000, Loss: 0.53740\n",
            "Epoch: 045, Train: 116284.0000, Val: 34200.0000, Test: 68404.0000, Loss: 0.54511\n",
            "Epoch: 046, Train: 116284.0000, Val: 34200.0000, Test: 68404.0000, Loss: 0.54968\n",
            "Epoch: 047, Train: 116284.0000, Val: 34200.0000, Test: 68404.0000, Loss: 0.52804\n",
            "Epoch: 048, Train: 116284.0000, Val: 34200.0000, Test: 68404.0000, Loss: 0.53092\n",
            "Epoch: 049, Train: 116284.0000, Val: 34200.0000, Test: 68404.0000, Loss: 0.53524\n",
            "Epoch: 050, Train: 116284.0000, Val: 34200.0000, Test: 68404.0000, Loss: 0.53223\n",
            "Epoch: 051, Train: 116284.0000, Val: 34200.0000, Test: 68404.0000, Loss: 0.51423\n",
            "Epoch: 052, Train: 116284.0000, Val: 34200.0000, Test: 68404.0000, Loss: 0.52559\n",
            "Epoch: 053, Train: 116284.0000, Val: 34200.0000, Test: 68404.0000, Loss: 0.52209\n",
            "Epoch: 054, Train: 116284.0000, Val: 34200.0000, Test: 68404.0000, Loss: 0.52634\n",
            "Epoch: 055, Train: 116284.0000, Val: 34200.0000, Test: 68404.0000, Loss: 0.53261\n",
            "Epoch: 056, Train: 116284.0000, Val: 34200.0000, Test: 68404.0000, Loss: 0.51698\n",
            "Epoch: 057, Train: 116284.0000, Val: 34200.0000, Test: 68404.0000, Loss: 0.53125\n",
            "Epoch: 058, Train: 116284.0000, Val: 34200.0000, Test: 68404.0000, Loss: 0.51171\n",
            "Epoch: 059, Train: 116284.0000, Val: 34200.0000, Test: 68404.0000, Loss: 0.52063\n",
            "Epoch: 060, Train: 116284.0000, Val: 34200.0000, Test: 68404.0000, Loss: 0.51170\n",
            "Epoch: 061, Train: 116284.0000, Val: 34200.0000, Test: 68404.0000, Loss: 0.51132\n",
            "Epoch: 062, Train: 116284.0000, Val: 34200.0000, Test: 68404.0000, Loss: 0.49836\n",
            "Epoch: 063, Train: 116284.0000, Val: 34200.0000, Test: 68404.0000, Loss: 0.50444\n",
            "Epoch: 064, Train: 116284.0000, Val: 34200.0000, Test: 68404.0000, Loss: 0.51554\n",
            "Epoch: 065, Train: 116284.0000, Val: 34200.0000, Test: 68404.0000, Loss: 0.51892\n",
            "Epoch: 066, Train: 116284.0000, Val: 34200.0000, Test: 68404.0000, Loss: 0.49535\n",
            "Epoch: 067, Train: 116284.0000, Val: 34200.0000, Test: 68404.0000, Loss: 0.49784\n",
            "Epoch: 068, Train: 116284.0000, Val: 34200.0000, Test: 68404.0000, Loss: 0.50703\n",
            "Epoch: 069, Train: 116284.0000, Val: 34200.0000, Test: 68404.0000, Loss: 0.50450\n",
            "Epoch: 070, Train: 116284.0000, Val: 34200.0000, Test: 68404.0000, Loss: 0.49929\n",
            "Epoch: 071, Train: 116284.0000, Val: 34200.0000, Test: 68404.0000, Loss: 0.50008\n",
            "Epoch: 072, Train: 116284.0000, Val: 34200.0000, Test: 68404.0000, Loss: 0.51111\n",
            "Epoch: 073, Train: 116284.0000, Val: 34200.0000, Test: 68404.0000, Loss: 0.51052\n",
            "Epoch: 074, Train: 116284.0000, Val: 34200.0000, Test: 68404.0000, Loss: 0.50627\n",
            "Epoch: 075, Train: 116284.0000, Val: 34200.0000, Test: 68404.0000, Loss: 0.47972\n",
            "Epoch: 076, Train: 116284.0000, Val: 34200.0000, Test: 68404.0000, Loss: 0.48870\n",
            "Epoch: 077, Train: 116284.0000, Val: 34200.0000, Test: 68404.0000, Loss: 0.49015\n",
            "Epoch: 078, Train: 116284.0000, Val: 34200.0000, Test: 68404.0000, Loss: 0.49879\n",
            "Epoch: 079, Train: 116284.0000, Val: 34200.0000, Test: 68404.0000, Loss: 0.49680\n",
            "Epoch: 080, Train: 116284.0000, Val: 34200.0000, Test: 68404.0000, Loss: 0.49071\n",
            "Epoch: 081, Train: 116284.0000, Val: 34200.0000, Test: 68404.0000, Loss: 0.49012\n",
            "Epoch: 082, Train: 116284.0000, Val: 34200.0000, Test: 68404.0000, Loss: 0.48471\n",
            "Epoch: 083, Train: 116284.0000, Val: 34200.0000, Test: 68404.0000, Loss: 0.48650\n",
            "Epoch: 084, Train: 116284.0000, Val: 34200.0000, Test: 68404.0000, Loss: 0.49168\n",
            "Epoch: 085, Train: 116284.0000, Val: 34200.0000, Test: 68404.0000, Loss: 0.48915\n",
            "Epoch: 086, Train: 116284.0000, Val: 34200.0000, Test: 68404.0000, Loss: 0.48490\n",
            "Epoch: 087, Train: 116284.0000, Val: 34200.0000, Test: 68404.0000, Loss: 0.48636\n",
            "Epoch: 088, Train: 116284.0000, Val: 34200.0000, Test: 68404.0000, Loss: 0.47859\n",
            "Epoch: 089, Train: 116284.0000, Val: 34200.0000, Test: 68404.0000, Loss: 0.47547\n",
            "Epoch: 090, Train: 116284.0000, Val: 34200.0000, Test: 68404.0000, Loss: 0.49371\n",
            "Epoch: 091, Train: 116284.0000, Val: 34200.0000, Test: 68404.0000, Loss: 0.49505\n",
            "Epoch: 092, Train: 116284.0000, Val: 34200.0000, Test: 68404.0000, Loss: 0.49093\n",
            "Epoch: 093, Train: 116284.0000, Val: 34200.0000, Test: 68404.0000, Loss: 0.48047\n",
            "Epoch: 094, Train: 116284.0000, Val: 34200.0000, Test: 68404.0000, Loss: 0.48305\n",
            "Epoch: 095, Train: 116284.0000, Val: 34200.0000, Test: 68404.0000, Loss: 0.48899\n",
            "Epoch: 096, Train: 116284.0000, Val: 34200.0000, Test: 68404.0000, Loss: 0.47385\n",
            "Epoch: 097, Train: 116284.0000, Val: 34200.0000, Test: 68404.0000, Loss: 0.48286\n",
            "Epoch: 098, Train: 116284.0000, Val: 34200.0000, Test: 68404.0000, Loss: 0.47635\n",
            "Epoch: 099, Train: 116284.0000, Val: 34200.0000, Test: 68404.0000, Loss: 0.47697\n",
            "Train: 116284.0000, Val: 34200.0000, Test: 68404.0000\n"
          ]
        },
        {
          "output_type": "display_data",
          "data": {
            "text/plain": [
              "<IPython.core.display.Javascript object>"
            ],
            "application/javascript": [
              "\n",
              "    async function download(id, filename, size) {\n",
              "      if (!google.colab.kernel.accessAllowed) {\n",
              "        return;\n",
              "      }\n",
              "      const div = document.createElement('div');\n",
              "      const label = document.createElement('label');\n",
              "      label.textContent = `Downloading \"${filename}\": `;\n",
              "      div.appendChild(label);\n",
              "      const progress = document.createElement('progress');\n",
              "      progress.max = size;\n",
              "      div.appendChild(progress);\n",
              "      document.body.appendChild(div);\n",
              "\n",
              "      const buffers = [];\n",
              "      let downloaded = 0;\n",
              "\n",
              "      const channel = await google.colab.kernel.comms.open(id);\n",
              "      // Send a message to notify the kernel that we're ready.\n",
              "      channel.send({})\n",
              "\n",
              "      for await (const message of channel.messages) {\n",
              "        // Send a message to notify the kernel that we're ready.\n",
              "        channel.send({})\n",
              "        if (message.buffers) {\n",
              "          for (const buffer of message.buffers) {\n",
              "            buffers.push(buffer);\n",
              "            downloaded += buffer.byteLength;\n",
              "            progress.value = downloaded;\n",
              "          }\n",
              "        }\n",
              "      }\n",
              "      const blob = new Blob(buffers, {type: 'application/binary'});\n",
              "      const a = document.createElement('a');\n",
              "      a.href = window.URL.createObjectURL(blob);\n",
              "      a.download = filename;\n",
              "      div.appendChild(a);\n",
              "      a.click();\n",
              "      div.remove();\n",
              "    }\n",
              "  "
            ]
          },
          "metadata": {}
        },
        {
          "output_type": "display_data",
          "data": {
            "text/plain": [
              "<IPython.core.display.Javascript object>"
            ],
            "application/javascript": [
              "download(\"download_c886814d-f5f5-4efe-a7cf-4302286edbcc\", \"Facebook-sp.pdf\", 14108)"
            ]
          },
          "metadata": {}
        },
        {
          "output_type": "display_data",
          "data": {
            "text/plain": [
              "<IPython.core.display.Javascript object>"
            ],
            "application/javascript": [
              "\n",
              "    async function download(id, filename, size) {\n",
              "      if (!google.colab.kernel.accessAllowed) {\n",
              "        return;\n",
              "      }\n",
              "      const div = document.createElement('div');\n",
              "      const label = document.createElement('label');\n",
              "      label.textContent = `Downloading \"${filename}\": `;\n",
              "      div.appendChild(label);\n",
              "      const progress = document.createElement('progress');\n",
              "      progress.max = size;\n",
              "      div.appendChild(progress);\n",
              "      document.body.appendChild(div);\n",
              "\n",
              "      const buffers = [];\n",
              "      let downloaded = 0;\n",
              "\n",
              "      const channel = await google.colab.kernel.comms.open(id);\n",
              "      // Send a message to notify the kernel that we're ready.\n",
              "      channel.send({})\n",
              "\n",
              "      for await (const message of channel.messages) {\n",
              "        // Send a message to notify the kernel that we're ready.\n",
              "        channel.send({})\n",
              "        if (message.buffers) {\n",
              "          for (const buffer of message.buffers) {\n",
              "            buffers.push(buffer);\n",
              "            downloaded += buffer.byteLength;\n",
              "            progress.value = downloaded;\n",
              "          }\n",
              "        }\n",
              "      }\n",
              "      const blob = new Blob(buffers, {type: 'application/binary'});\n",
              "      const a = document.createElement('a');\n",
              "      a.href = window.URL.createObjectURL(blob);\n",
              "      a.download = filename;\n",
              "      div.appendChild(a);\n",
              "      a.click();\n",
              "      div.remove();\n",
              "    }\n",
              "  "
            ]
          },
          "metadata": {}
        },
        {
          "output_type": "display_data",
          "data": {
            "text/plain": [
              "<IPython.core.display.Javascript object>"
            ],
            "application/javascript": [
              "download(\"download_41bbbecf-b562-4df0-bdca-0723ba3e0cf5\", \"Facebook-sp-loss.pdf\", 13512)"
            ]
          },
          "metadata": {}
        },
        {
          "output_type": "display_data",
          "data": {
            "text/plain": [
              "<Figure size 432x288 with 0 Axes>"
            ]
          },
          "metadata": {}
        }
      ],
      "source": [
        "args = {\n",
        "    \"device\" : 'cuda' if torch.cuda.is_available() else 'cpu',\n",
        "    \"hidden_dim\" : 85,\n",
        "    \"epochs\" : 100,\n",
        "}\n",
        "\n",
        "pyg_dataset = Planetoid('./tmp/cora', 'Cora')\n",
        "graphs1 = GraphDataset.pyg_to_graphs(pyg_dataset)\n",
        "\n",
        "pyg_dataset = Planetoid('./tmp/citeseer', 'CiteSeer')\n",
        "graphs2 = GraphDataset.pyg_to_graphs(pyg_dataset)\n",
        "\n",
        "pyg_dataset = Planetoid('./tmp/pubmed', 'PubMed')\n",
        "graphs3 = GraphDataset.pyg_to_graphs(pyg_dataset)\n",
        "\n",
        "pyg_dataset = FacebookPagePage(\"./tmp/facebook\")\n",
        "graphs4 = GraphDataset.pyg_to_graphs(pyg_dataset)\n",
        "\n",
        "graphs = [graphs1,graphs2,graphs3,graphs4]\n",
        "\n",
        "graph_names = [\"Cora\", \"CiteSeer\", \"PubMed\", \"Facebook\"]\n",
        "\n",
        "count = 0\n",
        "for i in graphs: \n",
        "    dataset = GraphDataset(\n",
        "            i,\n",
        "            task='link_pred',\n",
        "            edge_train_mode=\"disjoint\")\n",
        "\n",
        "    datasets = {}\n",
        "    datasets['train'], datasets['val'], datasets['test'] = dataset.split(\n",
        "                transductive=True, split_ratio=[0.85, 0.05, 0.1])\n",
        "\n",
        "    input_dim = datasets['train'].num_node_features\n",
        "    num_classes = datasets['train'].num_edge_labels\n",
        "\n",
        "\n",
        "    model = LinkPredModel(input_dim, args[\"hidden_dim\"]).to(args[\"device\"]) #creating the model \n",
        "\n",
        "    optimizer = torch.optim.SGD(model.parameters(), lr=0.1, momentum=0.9, weight_decay=5e-4)\n",
        "\n",
        "    dataloaders = {split: DataLoader(\n",
        "                ds, collate_fn=Batch.collate([]),\n",
        "                batch_size=1, shuffle=(split=='train'))\n",
        "                for split, ds in datasets.items()}\n",
        "\n",
        "    result_model = train(model, dataloaders, optimizer, args)   #training the model \n",
        "    best_model = result_model[0]\n",
        "    train_acc, test_acc, train_loss = result_model[1],result_model[2],result_model[3]\n",
        "\n",
        "    log = \"Train: {:.4f}, Val: {:.4f}, Test: {:.4f}\"\n",
        "    best_train_roc = test(best_model, dataloaders['train'], args) #testing the model\n",
        "    best_val_roc = test(best_model, dataloaders['val'], args)\n",
        "    best_test_roc = test(best_model, dataloaders['test'], args)\n",
        "    print(log.format(best_train_roc, best_val_roc, best_test_roc))\n",
        "\n",
        "\n",
        "    plt.plot(train_acc, label='Training accuracy')\n",
        "    plt.plot(test_acc, label='Testing accuracy')\n",
        "    plt.legend()\n",
        "    plt.ylabel(\"Accuracy - SP - \" + graph_names[count])\n",
        "    plt.xlabel(\"Epoch\")\n",
        "    plt.savefig(graph_names[count]+\"-sp.pdf\")\n",
        "    files.download(graph_names[count]+\"-sp.pdf\") \n",
        "    plt.clf()\n",
        "    plt.plot(train_loss, label='Training Loss')\n",
        "    plt.legend()\n",
        "    plt.ylabel(\"Loss - SP - \"+graph_names[count])\n",
        "    plt.xlabel(\"Epoch\")\n",
        "    plt.savefig(graph_names[count]+\"-sp-loss.pdf\")\n",
        "    files.download(graph_names[count]+\"-sp-loss.pdf\") \n",
        "    plt.clf()\n",
        "    count += 1\n",
        "\n"
      ]
    }
  ],
  "metadata": {
    "accelerator": "GPU",
    "colab": {
      "collapsed_sections": [],
      "name": "V2LinkPredictionUsingDeepSnap_v2.ipynb",
      "provenance": []
    },
    "kernelspec": {
      "display_name": "Python 3",
      "name": "python3"
    },
    "language_info": {
      "name": "python"
    }
  },
  "nbformat": 4,
  "nbformat_minor": 0
}