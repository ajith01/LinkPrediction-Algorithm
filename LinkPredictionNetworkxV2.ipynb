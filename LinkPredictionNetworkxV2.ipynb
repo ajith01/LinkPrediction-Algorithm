{
  "cells": [
    {
      "cell_type": "code",
      "execution_count": null,
      "metadata": {
        "id": "5f26cce8-f0bc-4541-bd3b-335bcf8b5446"
      },
      "outputs": [],
      "source": [
        "#import required modules\n",
        "import networkx as nx\n",
        "import numpy as np \n",
        "import math \n",
        "import pandas as pd\n",
        "import random\n",
        "from sklearn.model_selection import train_test_split\n",
        "import matplotlib.pyplot as plt\n",
        "import time \n",
        "from random import sample"
      ],
      "id": "5f26cce8-f0bc-4541-bd3b-335bcf8b5446"
    },
    {
      "cell_type": "code",
      "execution_count": null,
      "metadata": {
        "id": "f2a353cf-7bcb-4d79-868c-bf398fe60469"
      },
      "outputs": [],
      "source": [
        "def findAllLatentNeighbours(Graph,nodeNum, withoutNeighbours = False):\n",
        "    \n",
        "    #find all neighbours\n",
        "    neighbours = list(Graph.neighbors(nodeNum))\n",
        "    \n",
        "    #find all latent neighbours \n",
        "    all_neighbours = []\n",
        "    \n",
        "    #for each of the neighbour nodeNumbers returned,find the neighbour and append it to list \n",
        "    for i in neighbours:\n",
        "        all_neighbours.append(Graph.neighbors(i))\n",
        "        \n",
        "    \n",
        "    latent_neighbours = set()\n",
        "    \n",
        "    for i in all_neighbours:\n",
        "        for j in i:\n",
        "            latent_neighbours.add(j)\n",
        "            \n",
        "    if(nodeNum in latent_neighbours):\n",
        "        latent_neighbours.remove(nodeNum)\n",
        "        \n",
        "    if(withoutNeighbours):\n",
        "        latent_neighbours = [i for i in latent_neighbours if i not in neighbours]\n",
        "            \n",
        "    latent_neighbours = list(latent_neighbours)\n",
        "        #return list \n",
        "    return latent_neighbours"
      ],
      "id": "f2a353cf-7bcb-4d79-868c-bf398fe60469"
    },
    {
      "cell_type": "code",
      "execution_count": null,
      "metadata": {
        "id": "f5421097-6649-4288-bebc-5b7d42bdef6d"
      },
      "outputs": [],
      "source": [
        "#common enighbours\n",
        "def findCommonNeighbours(G,node1,node2):\n",
        "    if node1 not in G:\n",
        "        return []\n",
        "    if node2 not in G:\n",
        "        return []\n",
        "    \n",
        "    return sorted(list(nx.common_neighbors(G,node1,node2)))\n"
      ],
      "id": "f5421097-6649-4288-bebc-5b7d42bdef6d"
    },
    {
      "cell_type": "code",
      "execution_count": null,
      "metadata": {
        "id": "1d4eec73-66a2-4cae-a905-1a9ac734e6d6"
      },
      "outputs": [],
      "source": [
        "#calculate neighbourhood vector \n",
        "def neighbourhoodVector(Graph,nodeNum,func = findCommonNeighbours):\n",
        "    nodes = Graph.nodes\n",
        "    \n",
        "    neighbourhoodVec = np.zeros(Graph.number_of_nodes() + 1).astype(float)\n",
        "    #makes a size len(node)\n",
        "    #will slice the first nodes off\n",
        "    \n",
        "    #check if it is an isolated node\n",
        "    try:\n",
        "        neighbours = list(nx.neighbors(Graph,nodeNum))\n",
        "    except nx.NetworkXError:\n",
        "        neighbours = []\n",
        "\n",
        "    #find all the latent neighbours that are not direct neighbours\n",
        "    latent_neighbour = findAllLatentNeighbours(Graph,nodeNum, True)\n",
        "    \n",
        "    for i in range(1, Graph.number_of_nodes() + 1):\n",
        "        if (i == nodeNum):\n",
        "            neighbourhoodVec[i] = Graph.degree[i]\n",
        "        elif (i in neighbours):\n",
        "            if func == findCommonNeighbours:\n",
        "                neighbourhoodVec[i] = len(func(Graph,nodeNum,i)) + 1\n",
        "            else:\n",
        "                neighbourhoodVec[i] = func(Graph,nodeNum,i) + 1\n",
        "        elif (i in latent_neighbour):\n",
        "            if func == findCommonNeighbours:\n",
        "                neighbourhoodVec[i] = len(func(Graph,nodeNum,i)) \n",
        "            else:\n",
        "                neighbourhoodVec[i] = func(Graph,nodeNum,i)\n",
        "\n",
        "        else:\n",
        "            neighbourhoodVec[i] = 0\n",
        "            \n",
        "    return neighbourhoodVec[1:]\n"
      ],
      "id": "1d4eec73-66a2-4cae-a905-1a9ac734e6d6"
    },
    {
      "cell_type": "code",
      "execution_count": null,
      "metadata": {
        "id": "173dcf2a-bf57-4d0f-aa4e-ef37b08efd0a"
      },
      "outputs": [],
      "source": [
        "def unionNeighbourhood(neighbourhoodVec1,neighbourhoodVec2):\n",
        "    unionVector = set()\n",
        "    \n",
        "    for i in range(0,len(neighbourhoodVec1)):\n",
        "        if neighbourhoodVec1[i] > 0:\n",
        "            unionVector.add(i+1)\n",
        "            \n",
        "    for i in range(0,len(neighbourhoodVec2)):\n",
        "        if neighbourhoodVec2[i ] > 0:\n",
        "            unionVector.add(i+1)\n",
        "                        \n",
        "    if (len(unionVector) == 0):\n",
        "        return []\n",
        "    else:\n",
        "        temp = list(unionVector)\n",
        "        temp.sort()\n",
        "        return temp\n"
      ],
      "id": "173dcf2a-bf57-4d0f-aa4e-ef37b08efd0a"
    },
    {
      "cell_type": "code",
      "execution_count": null,
      "metadata": {
        "id": "f4e287c7-85e6-4bfd-97ea-85a8990c1012"
      },
      "outputs": [],
      "source": [
        "def NAvg(neighbourhoodVec, unionVec):\n",
        "    \n",
        "    if (unionVec.size == 0):       #we send in an array \n",
        "        return 0\n",
        "\n",
        "    count = 0\n",
        "    for i in unionVec:\n",
        "        count = count + neighbourhoodVec[i-1]\n",
        "        \n",
        "    return count / (len(unionVec))"
      ],
      "id": "f4e287c7-85e6-4bfd-97ea-85a8990c1012"
    },
    {
      "cell_type": "code",
      "execution_count": null,
      "metadata": {
        "id": "a1cd5628-f9d8-4ec6-96c6-22967b1a53b0"
      },
      "outputs": [],
      "source": [
        "def correlation(G,node1,node2,func = findCommonNeighbours):\n",
        "    \n",
        "    N_i = neighbourhoodVector(G,node1,func)\n",
        "    N_j = neighbourhoodVector(G,node2,func)\n",
        "    UN_ij = np.asarray(unionNeighbourhood(N_i,N_j))\n",
        "    \n",
        "    N_avg_i= NAvg(N_i, UN_ij)\n",
        "    N_avg_j= NAvg(N_j, UN_ij)\n",
        "        \n",
        "\n",
        "    summation1 = 0\n",
        "    summation2 = 0\n",
        "    summation3 = 0\n",
        "    \n",
        "    for i in UN_ij:\n",
        "        summation1 = summation1 + (N_i[i-1] - N_avg_i) * (N_j[i-1] - N_avg_j)\n",
        "        summation2 = summation2 + (N_i[i-1] - N_avg_i) **2 \n",
        "        summation3 = summation3 + (N_j[i-1] - N_avg_j) **2 \n",
        "        \n",
        "        \n",
        "    b = (math.sqrt(summation2) * math.sqrt(summation3))\n",
        "    \n",
        "    if(b != 0):\n",
        "        a = summation1 / (b)\n",
        "    else:\n",
        "        a = 0\n",
        "    \n",
        "    return a\n"
      ],
      "id": "a1cd5628-f9d8-4ec6-96c6-22967b1a53b0"
    },
    {
      "cell_type": "code",
      "execution_count": null,
      "metadata": {
        "id": "b6ed6f06-a5a3-47b9-929e-9a67820c6e0c"
      },
      "outputs": [],
      "source": [
        "def locallyAdaptiveSimilarityMessure(G,nodeNum1,nodeNum2):\n",
        "    \n",
        "    #find common neighbours \n",
        "    commonNeighbours = findCommonNeighbours(G,nodeNum1,nodeNum2)\n",
        "    \n",
        "    if (len(commonNeighbours) == 0 ):\n",
        "        return 0\n",
        "    \n",
        "    #define a_g\n",
        "    \n",
        "    all_nodes = list(G.nodes)\n",
        "\n",
        "    summation_g = 0\n",
        "    summation_l = 0\n",
        "\n",
        "    for i in all_nodes:\n",
        "      summation_g = summation_g + G.degree[i]\n",
        "\n",
        "    #local degree\n",
        "    for i in commonNeighbours:\n",
        "        summation_l = summation_l + G.degree[i]\n",
        "\n",
        "    a_local = math.log(summation_l/ len(commonNeighbours))\n",
        "    a_global = math.log(summation_g/ len(all_nodes))\n",
        "\n",
        "    \n",
        "    summation = 0\n",
        "    #for each of the common neighbours \n",
        "    for i in commonNeighbours:\n",
        "        degree = G.degree[i]\n",
        "        summation = summation + 1/(degree**((a_global/a_local)))\n",
        "\n",
        "    return summation\n",
        "    "
      ],
      "id": "b6ed6f06-a5a3-47b9-929e-9a67820c6e0c"
    },
    {
      "cell_type": "code",
      "execution_count": null,
      "metadata": {
        "id": "b4f0039a-e46c-44bb-86df-7813c742423b"
      },
      "outputs": [],
      "source": [
        "def DICN(G,node1,node2, func = findCommonNeighbours):\n",
        "    return (1 + locallyAdaptiveSimilarityMessure(G,node1,node2)) * (1 + correlation(G,node1,node2,func))"
      ],
      "id": "b4f0039a-e46c-44bb-86df-7813c742423b"
    },
    {
      "cell_type": "code",
      "execution_count": null,
      "metadata": {
        "id": "9cb9ee8f-ed4a-470a-a18e-f1a0d7774883"
      },
      "outputs": [],
      "source": [
        "def computeAUC(G, b):\n",
        "    \n",
        "    all_edges = list(G.edges)    \n",
        "    amount = 1 - (b/100)\n",
        "    \n",
        "    training_set, testing_set = train_test_split(all_edges,test_size= amount)       \n",
        "    \n",
        "    training_G = nx.Graph()\n",
        "    training_G.add_edges_from(training_set)\n",
        "    \n",
        "    testing_G = nx.Graph()\n",
        "    testing_G.add_edges_from(testing_set)\n",
        "    \n",
        "    nonexisting_edges = sample(list(nx.non_edges(G)),min(testing_G.number_of_edges(),100))\n",
        "\n",
        "    \n",
        "    #adding nodes \n",
        "    \n",
        "    for i in list(G.nodes):\n",
        "        training_G.add_node(i)\n",
        "        testing_G.add_node(i)\n",
        "\n",
        "    n1 = 0\n",
        "    n2 = 0 \n",
        "\n",
        "    #pick and edge from testing set \n",
        "    count = 0\n",
        "    for i in testing_set:\n",
        "        #compute similairty \n",
        "        similairty_score1 = DICN(training_G,i[0],i[1], func = locallyAdaptiveSimilarityMessure)\n",
        "        #pick and edge from the non existant set\n",
        "        for j in nonexisting_edges:\n",
        "            #computer similairty\n",
        "            similairty_score2 = DICN(training_G, j[0],j[1], func = locallyAdaptiveSimilarityMessure)\n",
        "            count = count + 1\n",
        "\n",
        "            if similairty_score1 > similairty_score2:\n",
        "                n1 = n1 + 1\n",
        "            if similairty_score1 == similairty_score2:\n",
        "                n2 = n2 + 1\n",
        "    \n",
        "    #n = (1 − β/100) · |E| · (|V|·(|V|−1)/ 2 − |E|)\n",
        "#     n = (1 - b/100) * len(edges)*((34*(34-1))/2 - len(edges))\n",
        "#     AUC = (n1 + n2/2)/(n)\n",
        "\n",
        "    b = len(testing_set) * len(nonexisting_edges)\n",
        "    if ( b != 0):\n",
        "        AUC = (n1 + n2/2)/(b)\n",
        "    else: \n",
        "        AUC = 0\n",
        "\n",
        "    return AUC"
      ],
      "id": "9cb9ee8f-ed4a-470a-a18e-f1a0d7774883"
    },
    {
      "cell_type": "code",
      "execution_count": null,
      "metadata": {
        "id": "f34dc824-5949-4bae-86d9-0c5c733756f1"
      },
      "outputs": [],
      "source": [
        "def avgAUC(G, b,n):\n",
        "    auc_avg = 0 \n",
        "    c = time.time()\n",
        "    for i in range(0,n):\n",
        "        a = computeAUC(G,b)\n",
        "        auc_avg = auc_avg + a\n",
        "        print(\"AUC\" + str(i) + \": \" + str(a))\n",
        "    print(\"Time: \", time.time() - c )\n",
        "\n",
        "            \n",
        "    return auc_avg/n"
      ],
      "id": "f34dc824-5949-4bae-86d9-0c5c733756f1"
    },
    {
      "cell_type": "code",
      "execution_count": null,
      "metadata": {
        "id": "e1419036-728a-4766-a6fa-2e59d1bebd5e"
      },
      "outputs": [],
      "source": [
        "#open file\n",
        "\n",
        "def openFile(name, ext, ignore_char, readLen):\n",
        "\n",
        "    edges = []\n",
        "    with open(name+\".\"+ext) as reader:\n",
        "        lines = reader.readlines()\n",
        "        for i in lines:\n",
        "            if i[0] != ignore_char:\n",
        "                a = i.split()\n",
        "                if (len(a) == readLen):\n",
        "                    edges.append((int(a[0]),int(a[1])))\n",
        "                    \n",
        "    return edges\n",
        "                "
      ],
      "id": "e1419036-728a-4766-a6fa-2e59d1bebd5e"
    },
    {
      "cell_type": "code",
      "source": [
        "def nodes_with_no_common_neighbours(G,edges):\n",
        "  max_edges = max(list(G.nodes))\n",
        "  no_common_neighbours = []\n",
        "\n",
        "  no_common_edges = []\n",
        "\n",
        "  for i in range(1,max_edges + 1):\n",
        "      for j in range(i+1,max_edges + 1):\n",
        "        a = list(nx.common_neighbors(G,i,j))\n",
        "        if not a:\n",
        "          no_common_neighbours.append((i,j))\n",
        "\n",
        "  for i in edges:\n",
        "    if G.degree[i[0]] > 1 and G.degree[i[1]] > 1:\n",
        "      if i in no_common_neighbours:\n",
        "        no_common_edges.append(i)\n",
        "\n",
        "  return no_common_edges\n"
      ],
      "metadata": {
        "id": "gwsyCbFkyVs5"
      },
      "id": "gwsyCbFkyVs5",
      "execution_count": null,
      "outputs": []
    },
    {
      "cell_type": "code",
      "source": [
        "def compute_AUC_for_no_common_Neighbours(G, b):\n",
        "    \n",
        "    all_edges = list(G.edges)    \n",
        "    amount = 1 - (b/100)\n",
        "    \n",
        "    training_set, testing_set = train_test_split(all_edges,test_size= amount)       \n",
        "    \n",
        "    training_G = nx.Graph()\n",
        "    training_G.add_edges_from(training_set)\n",
        "    \n",
        "    testing_G = nx.Graph()\n",
        "    testing_G.add_edges_from(testing_set)\n",
        "    \n",
        "    nonexisting_edges = sample(list(nx.non_edges(G)),testing_G.number_of_edges)\n",
        "    #adding nodes \n",
        "    \n",
        "    for i in list(G.nodes):\n",
        "        training_G.add_node(i)\n",
        "        testing_G.add_node(i)\n",
        "\n",
        "    n1 = 0\n",
        "    n2 = 0 \n",
        "\n",
        "    #edges that have no common neighbours\n",
        "\n",
        "    no_common_testing_set = nodes_with_no_common_neighbours(training_G,testing_set)\n",
        "    no_common_nonexistant_edges = nodes_with_no_common_neighbours(training_G,nonexisting_edges)\n",
        "\n",
        "    if(len(no_common_testing_set)) == 0:\n",
        "      return -1\n",
        "\n",
        "    #pick and edge from testing set \n",
        "    count = 0\n",
        "    for i in no_common_testing_set:\n",
        "        #compute similairty \n",
        "        similairty_score1 = DICN(training_G,i[0] ,i[1], func = locallyAdaptiveSimilarityMessure)\n",
        "        #pick and edge from the non existant set\n",
        "        for j in no_common_nonexistant_edges:\n",
        "            #computer similairty\n",
        "            similairty_score2 = DICN(training_G, j[0],j[1], func = locallyAdaptiveSimilarityMessure)\n",
        "\n",
        "            count = count + 1\n",
        "\n",
        "            if similairty_score1 > similairty_score2:\n",
        "                n1 = n1 + 1\n",
        "            if similairty_score1 == similairty_score2:\n",
        "                n2 = n2 + 1\n",
        "    \n",
        "    #n = (1 − β/100) · |E| · (|V|·(|V|−1)/ 2 − |E|)\n",
        "#     n = (1 - b/100) * len(edges)*((34*(34-1))/2 - len(edges))\n",
        "#     AUC = (n1 + n2/2)/(n)\n",
        "\n",
        "\n",
        "    b = len(no_common_testing_set) * len(no_common_nonexistant_edges)\n",
        "    if ( b != 0):\n",
        "        AUC = (n1 + n2/2)/(b)\n",
        "    else: \n",
        "        AUC = 0\n",
        "\n",
        "    return AUC"
      ],
      "metadata": {
        "id": "L5BOf23Z65Yz"
      },
      "id": "L5BOf23Z65Yz",
      "execution_count": null,
      "outputs": []
    },
    {
      "cell_type": "code",
      "source": [
        "def avgAUC_no_common_neighbour(G, b,n):\n",
        "    auc_avg = 0 \n",
        "    c = time.time()\n",
        "    count = 0 \n",
        "    \n",
        "    while (count < n):\n",
        "      a = compute_AUC_for_no_common_Neighbours(G,b)\n",
        "      if (a == -1):\n",
        "        count = count\n",
        "      else:\n",
        "        auc_avg = auc_avg + a\n",
        "        count = count + 1 \n",
        "        print(\"AUC\" + str(count) + \": \" + str(a))\n",
        "   \n",
        "    print(\"Time: \", time.time() - c )\n",
        "\n",
        "            \n",
        "    return auc_avg/(n)"
      ],
      "metadata": {
        "id": "EYibtmo1ank5"
      },
      "id": "EYibtmo1ank5",
      "execution_count": null,
      "outputs": []
    },
    {
      "cell_type": "code",
      "source": [
        ""
      ],
      "metadata": {
        "id": "fnwcZFTwiU7G",
        "outputId": "71d5e9dc-7d39-49ed-da31-76e98a5b80f0",
        "colab": {
          "base_uri": "https://localhost:8080/"
        }
      },
      "id": "fnwcZFTwiU7G",
      "execution_count": null,
      "outputs": [
        {
          "output_type": "stream",
          "name": "stdout",
          "text": [
            "True\n"
          ]
        }
      ]
    }
  ],
  "metadata": {
    "colab": {
      "collapsed_sections": [],
      "name": "LinkPredictionNetworkxV2.ipynb",
      "provenance": []
    },
    "kernelspec": {
      "display_name": "Python 3 (ipykernel)",
      "language": "python",
      "name": "python3"
    },
    "language_info": {
      "codemirror_mode": {
        "name": "ipython",
        "version": 3
      },
      "file_extension": ".py",
      "mimetype": "text/x-python",
      "name": "python",
      "nbconvert_exporter": "python",
      "pygments_lexer": "ipython3",
      "version": "3.8.11"
    }
  },
  "nbformat": 4,
  "nbformat_minor": 5
}